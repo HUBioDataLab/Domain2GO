{
 "cells": [
  {
   "cell_type": "code",
   "execution_count": 9,
   "metadata": {},
   "outputs": [],
   "source": [
    "import dask.dataframe as dd\n",
    "import pandas as pd\n",
    "import os\n",
    "import json"
   ]
  },
  {
   "cell_type": "code",
   "execution_count": 2,
   "metadata": {},
   "outputs": [],
   "source": [
    "protein2ipr=dd.read_csv(\"/Volumes/ErvaSP/interpro-go/main_data/interpro_raw/protein2ipr.dat\", names=[\"InterPro\",\"Uniprot\",\"Name\",\"\"] sep=\"\\t\")"
   ]
  },
  {
   "cell_type": "code",
   "execution_count": null,
   "metadata": {},
   "outputs": [],
   "source": [
    "protein2ipr=protein2ipr[protein2ipr[\"\"]]"
   ]
  },
  {
   "cell_type": "code",
   "execution_count": 3,
   "metadata": {},
   "outputs": [
    {
     "data": {
      "text/plain": "'/Volumes/ErvaSP/GitHub/'"
     },
     "execution_count": 3,
     "metadata": {},
     "output_type": "execute_result"
    }
   ],
   "source": [
    "os.getcwd().split(\"Domain2GO\")[0]"
   ]
  },
  {
   "cell_type": "code",
   "execution_count": 6,
   "metadata": {},
   "outputs": [],
   "source": [
    "cwd = os.getcwd()\n",
    "input_file_path = \"{}Domain2GO/input_data\".format(cwd.split(\"Domain2GO\")[0])"
   ]
  },
  {
   "cell_type": "code",
   "execution_count": 7,
   "metadata": {},
   "outputs": [
    {
     "data": {
      "text/plain": "'/Volumes/ErvaSP/GitHub/Domain2GO/input_data/manual_GOA_20191024_propagated.tsv'"
     },
     "execution_count": 7,
     "metadata": {},
     "output_type": "execute_result"
    }
   ],
   "source": [
    "\"{}/manual_GOA_20191024_propagated.tsv\".format(input_file_path)"
   ]
  },
  {
   "cell_type": "code",
   "execution_count": 2,
   "metadata": {},
   "outputs": [],
   "source": [
    "go_data=pd.read_csv(\"/Volumes/ErvaSP/GitHub/Domain2GO/input_data/manual_GOA_20191024_propagated.tsv\", delimiter = \"\\t\", usecols=[\"GO_ID\", \"DB_OBJECT_ID\"])"
   ]
  },
  {
   "cell_type": "code",
   "execution_count": 3,
   "metadata": {},
   "outputs": [
    {
     "data": {
      "text/html": "<div>\n<style scoped>\n    .dataframe tbody tr th:only-of-type {\n        vertical-align: middle;\n    }\n\n    .dataframe tbody tr th {\n        vertical-align: top;\n    }\n\n    .dataframe thead th {\n        text-align: right;\n    }\n</style>\n<table border=\"1\" class=\"dataframe\">\n  <thead>\n    <tr style=\"text-align: right;\">\n      <th></th>\n      <th>GO_ID</th>\n      <th>DB_OBJECT_ID</th>\n    </tr>\n  </thead>\n  <tbody>\n    <tr>\n      <th>0</th>\n      <td>GO:0071617</td>\n      <td>P0A257</td>\n    </tr>\n    <tr>\n      <th>1</th>\n      <td>GO:0071617</td>\n      <td>Q3UN02</td>\n    </tr>\n    <tr>\n      <th>2</th>\n      <td>GO:0071617</td>\n      <td>Q8K3K7</td>\n    </tr>\n    <tr>\n      <th>3</th>\n      <td>GO:0071617</td>\n      <td>O35083</td>\n    </tr>\n    <tr>\n      <th>4</th>\n      <td>GO:0071617</td>\n      <td>Q924S1</td>\n    </tr>\n    <tr>\n      <th>...</th>\n      <td>...</td>\n      <td>...</td>\n    </tr>\n    <tr>\n      <th>12539922</th>\n      <td>GO:2001308</td>\n      <td>Q4WRY5</td>\n    </tr>\n    <tr>\n      <th>12539923</th>\n      <td>GO:2001308</td>\n      <td>Q4WMJ7</td>\n    </tr>\n    <tr>\n      <th>12539924</th>\n      <td>GO:2001308</td>\n      <td>A4GYZ0</td>\n    </tr>\n    <tr>\n      <th>12539925</th>\n      <td>GO:2001313</td>\n      <td>P77398</td>\n    </tr>\n    <tr>\n      <th>12539926</th>\n      <td>GO:2001316</td>\n      <td>Q2U5H9</td>\n    </tr>\n  </tbody>\n</table>\n<p>12539927 rows × 2 columns</p>\n</div>",
      "text/plain": "               GO_ID DB_OBJECT_ID\n0         GO:0071617       P0A257\n1         GO:0071617       Q3UN02\n2         GO:0071617       Q8K3K7\n3         GO:0071617       O35083\n4         GO:0071617       Q924S1\n...              ...          ...\n12539922  GO:2001308       Q4WRY5\n12539923  GO:2001308       Q4WMJ7\n12539924  GO:2001308       A4GYZ0\n12539925  GO:2001313       P77398\n12539926  GO:2001316       Q2U5H9\n\n[12539927 rows x 2 columns]"
     },
     "execution_count": 3,
     "metadata": {},
     "output_type": "execute_result"
    }
   ],
   "source": [
    "go_data"
   ]
  },
  {
   "cell_type": "code",
   "execution_count": 12,
   "metadata": {},
   "outputs": [],
   "source": [
    "go_data.drop_duplicates(inplace = True)"
   ]
  },
  {
   "cell_type": "code",
   "execution_count": 13,
   "metadata": {},
   "outputs": [
    {
     "data": {
      "text/html": "<div>\n<style scoped>\n    .dataframe tbody tr th:only-of-type {\n        vertical-align: middle;\n    }\n\n    .dataframe tbody tr th {\n        vertical-align: top;\n    }\n\n    .dataframe thead th {\n        text-align: right;\n    }\n</style>\n<table border=\"1\" class=\"dataframe\">\n  <thead>\n    <tr style=\"text-align: right;\">\n      <th></th>\n      <th>GO_ID</th>\n      <th>DB_OBJECT_ID</th>\n    </tr>\n  </thead>\n  <tbody>\n    <tr>\n      <th>0</th>\n      <td>GO:0071617</td>\n      <td>P0A257</td>\n    </tr>\n    <tr>\n      <th>1</th>\n      <td>GO:0071617</td>\n      <td>Q3UN02</td>\n    </tr>\n    <tr>\n      <th>2</th>\n      <td>GO:0071617</td>\n      <td>Q8K3K7</td>\n    </tr>\n    <tr>\n      <th>3</th>\n      <td>GO:0071617</td>\n      <td>O35083</td>\n    </tr>\n    <tr>\n      <th>4</th>\n      <td>GO:0071617</td>\n      <td>Q924S1</td>\n    </tr>\n    <tr>\n      <th>...</th>\n      <td>...</td>\n      <td>...</td>\n    </tr>\n    <tr>\n      <th>12539922</th>\n      <td>GO:2001308</td>\n      <td>Q4WRY5</td>\n    </tr>\n    <tr>\n      <th>12539923</th>\n      <td>GO:2001308</td>\n      <td>Q4WMJ7</td>\n    </tr>\n    <tr>\n      <th>12539924</th>\n      <td>GO:2001308</td>\n      <td>A4GYZ0</td>\n    </tr>\n    <tr>\n      <th>12539925</th>\n      <td>GO:2001313</td>\n      <td>P77398</td>\n    </tr>\n    <tr>\n      <th>12539926</th>\n      <td>GO:2001316</td>\n      <td>Q2U5H9</td>\n    </tr>\n  </tbody>\n</table>\n<p>8392680 rows × 2 columns</p>\n</div>",
      "text/plain": "               GO_ID DB_OBJECT_ID\n0         GO:0071617       P0A257\n1         GO:0071617       Q3UN02\n2         GO:0071617       Q8K3K7\n3         GO:0071617       O35083\n4         GO:0071617       Q924S1\n...              ...          ...\n12539922  GO:2001308       Q4WRY5\n12539923  GO:2001308       Q4WMJ7\n12539924  GO:2001308       A4GYZ0\n12539925  GO:2001313       P77398\n12539926  GO:2001316       Q2U5H9\n\n[8392680 rows x 2 columns]"
     },
     "execution_count": 13,
     "metadata": {},
     "output_type": "execute_result"
    }
   ],
   "source": [
    "go_data"
   ]
  },
  {
   "cell_type": "code",
   "execution_count": 5,
   "metadata": {},
   "outputs": [
    {
     "data": {
      "text/html": "<div>\n<style scoped>\n    .dataframe tbody tr th:only-of-type {\n        vertical-align: middle;\n    }\n\n    .dataframe tbody tr th {\n        vertical-align: top;\n    }\n\n    .dataframe thead th {\n        text-align: right;\n    }\n</style>\n<table border=\"1\" class=\"dataframe\">\n  <thead>\n    <tr style=\"text-align: right;\">\n      <th></th>\n      <th>GO</th>\n      <th>Uniprot</th>\n    </tr>\n  </thead>\n  <tbody>\n    <tr>\n      <th>0</th>\n      <td>GO:0071617</td>\n      <td>Q3UN02</td>\n    </tr>\n    <tr>\n      <th>1</th>\n      <td>GO:0071617</td>\n      <td>Q8K3K7</td>\n    </tr>\n    <tr>\n      <th>2</th>\n      <td>GO:0071617</td>\n      <td>O35083</td>\n    </tr>\n    <tr>\n      <th>3</th>\n      <td>GO:0071617</td>\n      <td>Q16635</td>\n    </tr>\n    <tr>\n      <th>4</th>\n      <td>GO:0071617</td>\n      <td>Q5E9R2</td>\n    </tr>\n    <tr>\n      <th>...</th>\n      <td>...</td>\n      <td>...</td>\n    </tr>\n    <tr>\n      <th>6989813</th>\n      <td>GO:2001308</td>\n      <td>Q4WRY5</td>\n    </tr>\n    <tr>\n      <th>6989814</th>\n      <td>GO:2001308</td>\n      <td>Q4WMJ7</td>\n    </tr>\n    <tr>\n      <th>6989815</th>\n      <td>GO:2001308</td>\n      <td>A4GYZ0</td>\n    </tr>\n    <tr>\n      <th>6989816</th>\n      <td>GO:2001313</td>\n      <td>P77398</td>\n    </tr>\n    <tr>\n      <th>6989817</th>\n      <td>GO:2001316</td>\n      <td>Q2U5H9</td>\n    </tr>\n  </tbody>\n</table>\n<p>6989818 rows × 2 columns</p>\n</div>",
      "text/plain": "                 GO Uniprot\n0        GO:0071617  Q3UN02\n1        GO:0071617  Q8K3K7\n2        GO:0071617  O35083\n3        GO:0071617  Q16635\n4        GO:0071617  Q5E9R2\n...             ...     ...\n6989813  GO:2001308  Q4WRY5\n6989814  GO:2001308  Q4WMJ7\n6989815  GO:2001308  A4GYZ0\n6989816  GO:2001313  P77398\n6989817  GO:2001316  Q2U5H9\n\n[6989818 rows x 2 columns]"
     },
     "execution_count": 5,
     "metadata": {},
     "output_type": "execute_result"
    }
   ],
   "source": [
    "cwd = os.getcwd()\n",
    "input_file_path = \"{}Domain2GO/input_data\".format(cwd.split(\"Domain2GO\")[0])\n",
    "go_file = \"{}/processed_go_data.txt\".format(input_file_path)\n",
    "go_data = pd.read_csv(go_file, delimiter = \" \")\n",
    "go_data"
   ]
  },
  {
   "cell_type": "code",
   "execution_count": 7,
   "metadata": {},
   "outputs": [
    {
     "data": {
      "text/html": "<div><strong>Dask DataFrame Structure:</strong></div>\n<div>\n<style scoped>\n    .dataframe tbody tr th:only-of-type {\n        vertical-align: middle;\n    }\n\n    .dataframe tbody tr th {\n        vertical-align: top;\n    }\n\n    .dataframe thead th {\n        text-align: right;\n    }\n</style>\n<table border=\"1\" class=\"dataframe\">\n  <thead>\n    <tr style=\"text-align: right;\">\n      <th></th>\n      <th>Uniprot</th>\n      <th>Accession</th>\n    </tr>\n    <tr>\n      <th>npartitions=71</th>\n      <th></th>\n      <th></th>\n    </tr>\n  </thead>\n  <tbody>\n    <tr>\n      <th></th>\n      <td>object</td>\n      <td>object</td>\n    </tr>\n    <tr>\n      <th></th>\n      <td>...</td>\n      <td>...</td>\n    </tr>\n    <tr>\n      <th>...</th>\n      <td>...</td>\n      <td>...</td>\n    </tr>\n    <tr>\n      <th></th>\n      <td>...</td>\n      <td>...</td>\n    </tr>\n    <tr>\n      <th></th>\n      <td>...</td>\n      <td>...</td>\n    </tr>\n  </tbody>\n</table>\n</div>\n<div>Dask Name: read-csv, 71 tasks</div>",
      "text/plain": "Dask DataFrame Structure:\n               Uniprot Accession\nnpartitions=71                  \n                object    object\n                   ...       ...\n...                ...       ...\n                   ...       ...\n                   ...       ...\nDask Name: read-csv, 71 tasks"
     },
     "execution_count": 7,
     "metadata": {},
     "output_type": "execute_result"
    }
   ],
   "source": [
    "ipr_file = \"{}/protein2ipr_onlydomains.txt\".format(input_file_path)\n",
    "ipr_data = dd.read_csv(ipr_file, delimiter = \" \")\n",
    "ipr_data"
   ]
  },
  {
   "cell_type": "code",
   "execution_count": 1,
   "metadata": {},
   "outputs": [],
   "source": [
    "from data_prep import data_process\n",
    "input_data, input_data_w_scores = data_process()"
   ]
  },
  {
   "cell_type": "code",
   "execution_count": 2,
   "metadata": {},
   "outputs": [
    {
     "data": {
      "text/html": "<div>\n<style scoped>\n    .dataframe tbody tr th:only-of-type {\n        vertical-align: middle;\n    }\n\n    .dataframe tbody tr th {\n        vertical-align: top;\n    }\n\n    .dataframe thead th {\n        text-align: right;\n    }\n</style>\n<table border=\"1\" class=\"dataframe\">\n  <thead>\n    <tr style=\"text-align: right;\">\n      <th></th>\n      <th>GO</th>\n      <th>Uniprot</th>\n      <th>Interpro</th>\n    </tr>\n  </thead>\n  <tbody>\n    <tr>\n      <th>0</th>\n      <td>GO:0071617</td>\n      <td>Q3UN02</td>\n      <td>IPR002123</td>\n    </tr>\n    <tr>\n      <th>1</th>\n      <td>GO:0071617</td>\n      <td>Q3UN02</td>\n      <td>IPR032098</td>\n    </tr>\n    <tr>\n      <th>2</th>\n      <td>GO:0016746</td>\n      <td>Q3UN02</td>\n      <td>IPR002123</td>\n    </tr>\n    <tr>\n      <th>3</th>\n      <td>GO:0016746</td>\n      <td>Q3UN02</td>\n      <td>IPR032098</td>\n    </tr>\n    <tr>\n      <th>4</th>\n      <td>GO:0005783</td>\n      <td>Q3UN02</td>\n      <td>IPR002123</td>\n    </tr>\n    <tr>\n      <th>...</th>\n      <td>...</td>\n      <td>...</td>\n      <td>...</td>\n    </tr>\n    <tr>\n      <th>12036978</th>\n      <td>GO:0043207</td>\n      <td>Q9SCS7</td>\n      <td>IPR008808</td>\n    </tr>\n    <tr>\n      <th>12036979</th>\n      <td>GO:0050896</td>\n      <td>Q9SCS7</td>\n      <td>IPR008808</td>\n    </tr>\n    <tr>\n      <th>12036980</th>\n      <td>GO:0051704</td>\n      <td>Q9SCS7</td>\n      <td>IPR008808</td>\n    </tr>\n    <tr>\n      <th>12036981</th>\n      <td>GO:0009605</td>\n      <td>Q9SCS7</td>\n      <td>IPR008808</td>\n    </tr>\n    <tr>\n      <th>12036982</th>\n      <td>GO:0009607</td>\n      <td>Q9SCS7</td>\n      <td>IPR008808</td>\n    </tr>\n  </tbody>\n</table>\n<p>12036983 rows × 3 columns</p>\n</div>",
      "text/plain": "                  GO Uniprot   Interpro\n0         GO:0071617  Q3UN02  IPR002123\n1         GO:0071617  Q3UN02  IPR032098\n2         GO:0016746  Q3UN02  IPR002123\n3         GO:0016746  Q3UN02  IPR032098\n4         GO:0005783  Q3UN02  IPR002123\n...              ...     ...        ...\n12036978  GO:0043207  Q9SCS7  IPR008808\n12036979  GO:0050896  Q9SCS7  IPR008808\n12036980  GO:0051704  Q9SCS7  IPR008808\n12036981  GO:0009605  Q9SCS7  IPR008808\n12036982  GO:0009607  Q9SCS7  IPR008808\n\n[12036983 rows x 3 columns]"
     },
     "execution_count": 2,
     "metadata": {},
     "output_type": "execute_result"
    }
   ],
   "source": [
    "input_data"
   ]
  },
  {
   "cell_type": "code",
   "execution_count": 3,
   "metadata": {},
   "outputs": [
    {
     "data": {
      "text/html": "<div>\n<style scoped>\n    .dataframe tbody tr th:only-of-type {\n        vertical-align: middle;\n    }\n\n    .dataframe tbody tr th {\n        vertical-align: top;\n    }\n\n    .dataframe thead th {\n        text-align: right;\n    }\n</style>\n<table border=\"1\" class=\"dataframe\">\n  <thead>\n    <tr style=\"text-align: right;\">\n      <th></th>\n      <th>GO</th>\n      <th>Interpro</th>\n      <th>n</th>\n      <th>n_go</th>\n      <th>n_ip</th>\n      <th>s</th>\n    </tr>\n  </thead>\n  <tbody>\n    <tr>\n      <th>0</th>\n      <td>GO:0000001</td>\n      <td>IPR000182</td>\n      <td>1</td>\n      <td>31</td>\n      <td>263</td>\n      <td>0.006803</td>\n    </tr>\n    <tr>\n      <th>1</th>\n      <td>GO:0000001</td>\n      <td>IPR000375</td>\n      <td>2</td>\n      <td>31</td>\n      <td>51</td>\n      <td>0.048780</td>\n    </tr>\n    <tr>\n      <th>2</th>\n      <td>GO:0000001</td>\n      <td>IPR001107</td>\n      <td>3</td>\n      <td>31</td>\n      <td>78</td>\n      <td>0.055046</td>\n    </tr>\n    <tr>\n      <th>3</th>\n      <td>GO:0000001</td>\n      <td>IPR001199</td>\n      <td>1</td>\n      <td>31</td>\n      <td>99</td>\n      <td>0.015385</td>\n    </tr>\n    <tr>\n      <th>4</th>\n      <td>GO:0000001</td>\n      <td>IPR001401</td>\n      <td>3</td>\n      <td>31</td>\n      <td>62</td>\n      <td>0.064516</td>\n    </tr>\n    <tr>\n      <th>...</th>\n      <td>...</td>\n      <td>...</td>\n      <td>...</td>\n      <td>...</td>\n      <td>...</td>\n      <td>...</td>\n    </tr>\n    <tr>\n      <th>2069791</th>\n      <td>GO:2001315</td>\n      <td>IPR005793</td>\n      <td>1</td>\n      <td>1</td>\n      <td>45</td>\n      <td>0.043478</td>\n    </tr>\n    <tr>\n      <th>2069792</th>\n      <td>GO:2001316</td>\n      <td>IPR001138</td>\n      <td>1</td>\n      <td>1</td>\n      <td>141</td>\n      <td>0.014085</td>\n    </tr>\n    <tr>\n      <th>2069793</th>\n      <td>GO:2001316</td>\n      <td>IPR007219</td>\n      <td>1</td>\n      <td>1</td>\n      <td>77</td>\n      <td>0.025641</td>\n    </tr>\n    <tr>\n      <th>2069794</th>\n      <td>GO:2001317</td>\n      <td>IPR001138</td>\n      <td>1</td>\n      <td>1</td>\n      <td>141</td>\n      <td>0.014085</td>\n    </tr>\n    <tr>\n      <th>2069795</th>\n      <td>GO:2001317</td>\n      <td>IPR007219</td>\n      <td>1</td>\n      <td>1</td>\n      <td>77</td>\n      <td>0.025641</td>\n    </tr>\n  </tbody>\n</table>\n<p>2069796 rows × 6 columns</p>\n</div>",
      "text/plain": "                 GO   Interpro  n  n_go  n_ip         s\n0        GO:0000001  IPR000182  1    31   263  0.006803\n1        GO:0000001  IPR000375  2    31    51  0.048780\n2        GO:0000001  IPR001107  3    31    78  0.055046\n3        GO:0000001  IPR001199  1    31    99  0.015385\n4        GO:0000001  IPR001401  3    31    62  0.064516\n...             ...        ... ..   ...   ...       ...\n2069791  GO:2001315  IPR005793  1     1    45  0.043478\n2069792  GO:2001316  IPR001138  1     1   141  0.014085\n2069793  GO:2001316  IPR007219  1     1    77  0.025641\n2069794  GO:2001317  IPR001138  1     1   141  0.014085\n2069795  GO:2001317  IPR007219  1     1    77  0.025641\n\n[2069796 rows x 6 columns]"
     },
     "execution_count": 3,
     "metadata": {},
     "output_type": "execute_result"
    }
   ],
   "source": [
    "input_data_w_scores"
   ]
  },
  {
   "cell_type": "code",
   "execution_count": 4,
   "metadata": {},
   "outputs": [],
   "source": [
    "input_data=pd.read_csv(\"/Volumes/ErvaSP/GitHub/Domain2GO/outputs/initial_mapping.txt\")"
   ]
  },
  {
   "cell_type": "code",
   "execution_count": 5,
   "metadata": {},
   "outputs": [
    {
     "data": {
      "text/html": "<div>\n<style scoped>\n    .dataframe tbody tr th:only-of-type {\n        vertical-align: middle;\n    }\n\n    .dataframe tbody tr th {\n        vertical-align: top;\n    }\n\n    .dataframe thead th {\n        text-align: right;\n    }\n</style>\n<table border=\"1\" class=\"dataframe\">\n  <thead>\n    <tr style=\"text-align: right;\">\n      <th></th>\n      <th>GO</th>\n      <th>Uniprot</th>\n      <th>Interpro</th>\n    </tr>\n  </thead>\n  <tbody>\n    <tr>\n      <th>0</th>\n      <td>GO:0071617</td>\n      <td>Q3UN02</td>\n      <td>IPR002123</td>\n    </tr>\n    <tr>\n      <th>1</th>\n      <td>GO:0071617</td>\n      <td>Q3UN02</td>\n      <td>IPR032098</td>\n    </tr>\n    <tr>\n      <th>2</th>\n      <td>GO:0016746</td>\n      <td>Q3UN02</td>\n      <td>IPR002123</td>\n    </tr>\n    <tr>\n      <th>3</th>\n      <td>GO:0016746</td>\n      <td>Q3UN02</td>\n      <td>IPR032098</td>\n    </tr>\n    <tr>\n      <th>4</th>\n      <td>GO:0005783</td>\n      <td>Q3UN02</td>\n      <td>IPR002123</td>\n    </tr>\n    <tr>\n      <th>...</th>\n      <td>...</td>\n      <td>...</td>\n      <td>...</td>\n    </tr>\n    <tr>\n      <th>12036978</th>\n      <td>GO:0043207</td>\n      <td>Q9SCS7</td>\n      <td>IPR008808</td>\n    </tr>\n    <tr>\n      <th>12036979</th>\n      <td>GO:0050896</td>\n      <td>Q9SCS7</td>\n      <td>IPR008808</td>\n    </tr>\n    <tr>\n      <th>12036980</th>\n      <td>GO:0051704</td>\n      <td>Q9SCS7</td>\n      <td>IPR008808</td>\n    </tr>\n    <tr>\n      <th>12036981</th>\n      <td>GO:0009605</td>\n      <td>Q9SCS7</td>\n      <td>IPR008808</td>\n    </tr>\n    <tr>\n      <th>12036982</th>\n      <td>GO:0009607</td>\n      <td>Q9SCS7</td>\n      <td>IPR008808</td>\n    </tr>\n  </tbody>\n</table>\n<p>12036983 rows × 3 columns</p>\n</div>",
      "text/plain": "                  GO Uniprot   Interpro\n0         GO:0071617  Q3UN02  IPR002123\n1         GO:0071617  Q3UN02  IPR032098\n2         GO:0016746  Q3UN02  IPR002123\n3         GO:0016746  Q3UN02  IPR032098\n4         GO:0005783  Q3UN02  IPR002123\n...              ...     ...        ...\n12036978  GO:0043207  Q9SCS7  IPR008808\n12036979  GO:0050896  Q9SCS7  IPR008808\n12036980  GO:0051704  Q9SCS7  IPR008808\n12036981  GO:0009605  Q9SCS7  IPR008808\n12036982  GO:0009607  Q9SCS7  IPR008808\n\n[12036983 rows x 3 columns]"
     },
     "execution_count": 5,
     "metadata": {},
     "output_type": "execute_result"
    }
   ],
   "source": [
    "input_data"
   ]
  },
  {
   "cell_type": "code",
   "execution_count": 3,
   "metadata": {},
   "outputs": [],
   "source": [
    "input_data_w_scores=pd.read_csv(\"/Volumes/ErvaSP/GitHub/Domain2GO/outputs/initial_mapping_w_scores.txt\")"
   ]
  },
  {
   "cell_type": "code",
   "execution_count": 4,
   "metadata": {},
   "outputs": [
    {
     "data": {
      "text/html": "<div>\n<style scoped>\n    .dataframe tbody tr th:only-of-type {\n        vertical-align: middle;\n    }\n\n    .dataframe tbody tr th {\n        vertical-align: top;\n    }\n\n    .dataframe thead th {\n        text-align: right;\n    }\n</style>\n<table border=\"1\" class=\"dataframe\">\n  <thead>\n    <tr style=\"text-align: right;\">\n      <th></th>\n      <th>GO</th>\n      <th>Interpro</th>\n      <th>n</th>\n      <th>n_go</th>\n      <th>n_ip</th>\n      <th>s</th>\n    </tr>\n  </thead>\n  <tbody>\n    <tr>\n      <th>0</th>\n      <td>GO:0000001</td>\n      <td>IPR000182</td>\n      <td>1</td>\n      <td>31</td>\n      <td>263</td>\n      <td>0.006803</td>\n    </tr>\n    <tr>\n      <th>1</th>\n      <td>GO:0000001</td>\n      <td>IPR000375</td>\n      <td>2</td>\n      <td>31</td>\n      <td>51</td>\n      <td>0.048780</td>\n    </tr>\n    <tr>\n      <th>2</th>\n      <td>GO:0000001</td>\n      <td>IPR001107</td>\n      <td>3</td>\n      <td>31</td>\n      <td>78</td>\n      <td>0.055046</td>\n    </tr>\n    <tr>\n      <th>3</th>\n      <td>GO:0000001</td>\n      <td>IPR001199</td>\n      <td>1</td>\n      <td>31</td>\n      <td>99</td>\n      <td>0.015385</td>\n    </tr>\n    <tr>\n      <th>4</th>\n      <td>GO:0000001</td>\n      <td>IPR001401</td>\n      <td>3</td>\n      <td>31</td>\n      <td>62</td>\n      <td>0.064516</td>\n    </tr>\n    <tr>\n      <th>...</th>\n      <td>...</td>\n      <td>...</td>\n      <td>...</td>\n      <td>...</td>\n      <td>...</td>\n      <td>...</td>\n    </tr>\n    <tr>\n      <th>2069791</th>\n      <td>GO:2001315</td>\n      <td>IPR005793</td>\n      <td>1</td>\n      <td>1</td>\n      <td>45</td>\n      <td>0.043478</td>\n    </tr>\n    <tr>\n      <th>2069792</th>\n      <td>GO:2001316</td>\n      <td>IPR001138</td>\n      <td>1</td>\n      <td>1</td>\n      <td>141</td>\n      <td>0.014085</td>\n    </tr>\n    <tr>\n      <th>2069793</th>\n      <td>GO:2001316</td>\n      <td>IPR007219</td>\n      <td>1</td>\n      <td>1</td>\n      <td>77</td>\n      <td>0.025641</td>\n    </tr>\n    <tr>\n      <th>2069794</th>\n      <td>GO:2001317</td>\n      <td>IPR001138</td>\n      <td>1</td>\n      <td>1</td>\n      <td>141</td>\n      <td>0.014085</td>\n    </tr>\n    <tr>\n      <th>2069795</th>\n      <td>GO:2001317</td>\n      <td>IPR007219</td>\n      <td>1</td>\n      <td>1</td>\n      <td>77</td>\n      <td>0.025641</td>\n    </tr>\n  </tbody>\n</table>\n<p>2069796 rows × 6 columns</p>\n</div>",
      "text/plain": "                 GO   Interpro  n  n_go  n_ip         s\n0        GO:0000001  IPR000182  1    31   263  0.006803\n1        GO:0000001  IPR000375  2    31    51  0.048780\n2        GO:0000001  IPR001107  3    31    78  0.055046\n3        GO:0000001  IPR001199  1    31    99  0.015385\n4        GO:0000001  IPR001401  3    31    62  0.064516\n...             ...        ... ..   ...   ...       ...\n2069791  GO:2001315  IPR005793  1     1    45  0.043478\n2069792  GO:2001316  IPR001138  1     1   141  0.014085\n2069793  GO:2001316  IPR007219  1     1    77  0.025641\n2069794  GO:2001317  IPR001138  1     1   141  0.014085\n2069795  GO:2001317  IPR007219  1     1    77  0.025641\n\n[2069796 rows x 6 columns]"
     },
     "execution_count": 4,
     "metadata": {},
     "output_type": "execute_result"
    }
   ],
   "source": [
    "input_data_w_scores"
   ]
  },
  {
   "cell_type": "code",
   "execution_count": 3,
   "metadata": {},
   "outputs": [],
   "source": [
    "from data_prep import random_mapping_create\n",
    "random_mapping=random_mapping_create(input_data)"
   ]
  },
  {
   "cell_type": "code",
   "execution_count": 8,
   "metadata": {},
   "outputs": [
    {
     "data": {
      "text/html": "<div>\n<style scoped>\n    .dataframe tbody tr th:only-of-type {\n        vertical-align: middle;\n    }\n\n    .dataframe tbody tr th {\n        vertical-align: top;\n    }\n\n    .dataframe thead th {\n        text-align: right;\n    }\n</style>\n<table border=\"1\" class=\"dataframe\">\n  <thead>\n    <tr style=\"text-align: right;\">\n      <th></th>\n      <th>GO</th>\n      <th>Interpro</th>\n      <th>n</th>\n      <th>n_go</th>\n      <th>n_ip</th>\n      <th>s</th>\n    </tr>\n  </thead>\n  <tbody>\n    <tr>\n      <th>0</th>\n      <td>GO:0000001</td>\n      <td>IPR000001</td>\n      <td>1</td>\n      <td>31</td>\n      <td>61</td>\n      <td>0.021739</td>\n    </tr>\n    <tr>\n      <th>1</th>\n      <td>GO:0000001</td>\n      <td>IPR000008</td>\n      <td>1</td>\n      <td>31</td>\n      <td>491</td>\n      <td>0.003831</td>\n    </tr>\n    <tr>\n      <th>2</th>\n      <td>GO:0000001</td>\n      <td>IPR000504</td>\n      <td>1</td>\n      <td>31</td>\n      <td>1003</td>\n      <td>0.001934</td>\n    </tr>\n    <tr>\n      <th>3</th>\n      <td>GO:0000001</td>\n      <td>IPR000719</td>\n      <td>2</td>\n      <td>31</td>\n      <td>3083</td>\n      <td>0.001285</td>\n    </tr>\n    <tr>\n      <th>4</th>\n      <td>GO:0000001</td>\n      <td>IPR000742</td>\n      <td>1</td>\n      <td>31</td>\n      <td>716</td>\n      <td>0.002677</td>\n    </tr>\n    <tr>\n      <th>...</th>\n      <td>...</td>\n      <td>...</td>\n      <td>...</td>\n      <td>...</td>\n      <td>...</td>\n      <td>...</td>\n    </tr>\n    <tr>\n      <th>45840465</th>\n      <td>GO:2001315</td>\n      <td>IPR014031</td>\n      <td>1</td>\n      <td>1</td>\n      <td>85</td>\n      <td>0.023256</td>\n    </tr>\n    <tr>\n      <th>45840466</th>\n      <td>GO:2001316</td>\n      <td>IPR017452</td>\n      <td>1</td>\n      <td>1</td>\n      <td>1503</td>\n      <td>0.001330</td>\n    </tr>\n    <tr>\n      <th>45840467</th>\n      <td>GO:2001316</td>\n      <td>IPR026904</td>\n      <td>1</td>\n      <td>1</td>\n      <td>47</td>\n      <td>0.041667</td>\n    </tr>\n    <tr>\n      <th>45840468</th>\n      <td>GO:2001317</td>\n      <td>IPR005225</td>\n      <td>1</td>\n      <td>1</td>\n      <td>1131</td>\n      <td>0.001767</td>\n    </tr>\n    <tr>\n      <th>45840469</th>\n      <td>GO:2001317</td>\n      <td>IPR007330</td>\n      <td>1</td>\n      <td>1</td>\n      <td>44</td>\n      <td>0.044444</td>\n    </tr>\n  </tbody>\n</table>\n<p>45840470 rows × 6 columns</p>\n</div>",
      "text/plain": "                  GO   Interpro  n  n_go  n_ip         s\n0         GO:0000001  IPR000001  1    31    61  0.021739\n1         GO:0000001  IPR000008  1    31   491  0.003831\n2         GO:0000001  IPR000504  1    31  1003  0.001934\n3         GO:0000001  IPR000719  2    31  3083  0.001285\n4         GO:0000001  IPR000742  1    31   716  0.002677\n...              ...        ... ..   ...   ...       ...\n45840465  GO:2001315  IPR014031  1     1    85  0.023256\n45840466  GO:2001316  IPR017452  1     1  1503  0.001330\n45840467  GO:2001316  IPR026904  1     1    47  0.041667\n45840468  GO:2001317  IPR005225  1     1  1131  0.001767\n45840469  GO:2001317  IPR007330  1     1    44  0.044444\n\n[45840470 rows x 6 columns]"
     },
     "execution_count": 8,
     "metadata": {},
     "output_type": "execute_result"
    }
   ],
   "source": [
    "random_mapping"
   ]
  },
  {
   "cell_type": "code",
   "execution_count": 7,
   "metadata": {},
   "outputs": [],
   "source": [
    "random_mapping=pd.read_csv(\"/Volumes/ErvaSP/GitHub/Domain2GO/outputs/randomized_mapping.txt\")"
   ]
  },
  {
   "cell_type": "code",
   "execution_count": 7,
   "metadata": {},
   "outputs": [
    {
     "data": {
      "text/html": "<div>\n<style scoped>\n    .dataframe tbody tr th:only-of-type {\n        vertical-align: middle;\n    }\n\n    .dataframe tbody tr th {\n        vertical-align: top;\n    }\n\n    .dataframe thead th {\n        text-align: right;\n    }\n</style>\n<table border=\"1\" class=\"dataframe\">\n  <thead>\n    <tr style=\"text-align: right;\">\n      <th></th>\n      <th>GO</th>\n      <th>Interpro</th>\n    </tr>\n  </thead>\n  <tbody>\n    <tr>\n      <th>0</th>\n      <td>GO:0031224</td>\n      <td>IPR004843</td>\n    </tr>\n    <tr>\n      <th>1</th>\n      <td>GO:0044238</td>\n      <td>IPR000742</td>\n    </tr>\n    <tr>\n      <th>2</th>\n      <td>GO:0048519</td>\n      <td>IPR000008</td>\n    </tr>\n    <tr>\n      <th>3</th>\n      <td>GO:0003723</td>\n      <td>IPR001962</td>\n    </tr>\n    <tr>\n      <th>4</th>\n      <td>GO:0000217</td>\n      <td>IPR003599</td>\n    </tr>\n    <tr>\n      <th>...</th>\n      <td>...</td>\n      <td>...</td>\n    </tr>\n    <tr>\n      <th>12036978</th>\n      <td>GO:0070011</td>\n      <td>IPR031910</td>\n    </tr>\n    <tr>\n      <th>12036979</th>\n      <td>GO:0016139</td>\n      <td>IPR013106</td>\n    </tr>\n    <tr>\n      <th>12036980</th>\n      <td>GO:0009117</td>\n      <td>IPR022691</td>\n    </tr>\n    <tr>\n      <th>12036981</th>\n      <td>GO:0005737</td>\n      <td>IPR019956</td>\n    </tr>\n    <tr>\n      <th>12036982</th>\n      <td>GO:0006807</td>\n      <td>IPR001433</td>\n    </tr>\n  </tbody>\n</table>\n<p>12036983 rows × 2 columns</p>\n</div>",
      "text/plain": "                  GO   Interpro\n0         GO:0031224  IPR004843\n1         GO:0044238  IPR000742\n2         GO:0048519  IPR000008\n3         GO:0003723  IPR001962\n4         GO:0000217  IPR003599\n...              ...        ...\n12036978  GO:0070011  IPR031910\n12036979  GO:0016139  IPR013106\n12036980  GO:0009117  IPR022691\n12036981  GO:0005737  IPR019956\n12036982  GO:0006807  IPR001433\n\n[12036983 rows x 2 columns]"
     },
     "execution_count": 7,
     "metadata": {},
     "output_type": "execute_result"
    }
   ],
   "source": [
    "column_names = [\"GO\", \"Interpro\"]\n",
    "random1 = pd.DataFrame(columns = column_names)\n",
    "random1['GO'] = input_data['GO'].sample(frac=1, random_state=1).values\n",
    "random1['Interpro'] = input_data['Interpro'].sample(frac=1, random_state=11).values\n",
    "random1"
   ]
  },
  {
   "cell_type": "code",
   "execution_count": null,
   "metadata": {},
   "outputs": [],
   "source": [
    "from score_calculation import original_score_cal\n",
    "input_w_scores = original_score_cal(input_data)"
   ]
  },
  {
   "cell_type": "code",
   "execution_count": null,
   "metadata": {},
   "outputs": [],
   "source": [
    "input_data_w_scores.loc[(original[\"n\"] >= y "
   ]
  },
  {
   "cell_type": "code",
   "execution_count": 5,
   "metadata": {},
   "outputs": [],
   "source": [
    "import numpy as np\n",
    "s_range=[0.1, 0.2, 0.3, 0.4, 0.5, 0.6]\n",
    "n_range=[1, 2, 3, 4, 5]"
   ]
  },
  {
   "cell_type": "code",
   "execution_count": 6,
   "metadata": {},
   "outputs": [],
   "source": [
    "original_hist_arrays_index_list=[]\n",
    "random_hist_arrays_index_list=[]\n",
    "for x in s_range:\n",
    "    for y in n_range:\n",
    "        original_hist_arrays_index_list.append(str(\"original_s%s\" % x + \"_n%s\" % y).replace('.', ''))\n",
    "        random_hist_arrays_index_list.append(str(\"random_s%s\" % x + \"_n%s\" % y).replace('.', ''))"
   ]
  },
  {
   "cell_type": "code",
   "execution_count": 14,
   "metadata": {},
   "outputs": [],
   "source": [
    "original_hist_arrays=[]\n",
    "random_hist_arrays=[]\n",
    "for x, y in [(x,y) for x in s_range for y in n_range]:\n",
    "    original_hist_arrays.append(np.histogram(input_data_w_scores.loc[(input_data_w_scores[\"n\"] >= y ) & (input_data_w_scores[\"s\"] < x )][\"s\"], bins=np.histogram_bin_edges(input_data_w_scores.loc[(input_data_w_scores[\"n\"] >= y ) & (input_data_w_scores[\"s\"] < x )][\"s\"], bins=20, range=(0,x)))[0])\n",
    "    random_hist_arrays.append(np.histogram(random_mapping.loc[(random_mapping[\"n\"] >= y ) & (random_mapping[\"s\"] < x )][\"s\"], bins=np.histogram_bin_edges(random_mapping.loc[(random_mapping[\"n\"] >= y ) & (random_mapping[\"s\"] < x )][\"s\"], bins=20, range=(0,x)))[0]/10)"
   ]
  },
  {
   "cell_type": "code",
   "execution_count": 39,
   "metadata": {},
   "outputs": [
    {
     "data": {
      "text/html": "<div>\n<style scoped>\n    .dataframe tbody tr th:only-of-type {\n        vertical-align: middle;\n    }\n\n    .dataframe tbody tr th {\n        vertical-align: top;\n    }\n\n    .dataframe thead th {\n        text-align: right;\n    }\n</style>\n<table border=\"1\" class=\"dataframe\">\n  <thead>\n    <tr style=\"text-align: right;\">\n      <th></th>\n      <th>s&lt;0.1</th>\n      <th>s&lt;0.2</th>\n      <th>s&lt;0.3</th>\n      <th>s&lt;0.4</th>\n      <th>s&lt;0.5</th>\n      <th>s&lt;0.6</th>\n    </tr>\n  </thead>\n  <tbody>\n    <tr>\n      <th>n&gt;=1</th>\n      <td>NaN</td>\n      <td>NaN</td>\n      <td>NaN</td>\n      <td>NaN</td>\n      <td>NaN</td>\n      <td>NaN</td>\n    </tr>\n    <tr>\n      <th>n&gt;=2</th>\n      <td>NaN</td>\n      <td>NaN</td>\n      <td>NaN</td>\n      <td>NaN</td>\n      <td>NaN</td>\n      <td>NaN</td>\n    </tr>\n    <tr>\n      <th>n&gt;=3</th>\n      <td>NaN</td>\n      <td>NaN</td>\n      <td>NaN</td>\n      <td>NaN</td>\n      <td>NaN</td>\n      <td>NaN</td>\n    </tr>\n    <tr>\n      <th>n&gt;=4</th>\n      <td>NaN</td>\n      <td>NaN</td>\n      <td>NaN</td>\n      <td>NaN</td>\n      <td>NaN</td>\n      <td>NaN</td>\n    </tr>\n    <tr>\n      <th>n&gt;=5</th>\n      <td>NaN</td>\n      <td>NaN</td>\n      <td>NaN</td>\n      <td>NaN</td>\n      <td>NaN</td>\n      <td>NaN</td>\n    </tr>\n  </tbody>\n</table>\n</div>",
      "text/plain": "     s<0.1 s<0.2 s<0.3 s<0.4 s<0.5 s<0.6\nn>=1   NaN   NaN   NaN   NaN   NaN   NaN\nn>=2   NaN   NaN   NaN   NaN   NaN   NaN\nn>=3   NaN   NaN   NaN   NaN   NaN   NaN\nn>=4   NaN   NaN   NaN   NaN   NaN   NaN\nn>=5   NaN   NaN   NaN   NaN   NaN   NaN"
     },
     "execution_count": 39,
     "metadata": {},
     "output_type": "execute_result"
    }
   ],
   "source": [
    "deneme_df=pd.DataFrame(columns = column_names, index=index_names)\n",
    "deneme_df"
   ]
  },
  {
   "cell_type": "code",
   "execution_count": null,
   "metadata": {},
   "outputs": [],
   "source": [
    "DataFrame.set_index(keys"
   ]
  },
  {
   "cell_type": "code",
   "execution_count": 38,
   "metadata": {},
   "outputs": [],
   "source": [
    "column_names= [\"s<\" + str(s) for s in s_range]"
   ]
  },
  {
   "cell_type": "code",
   "execution_count": 37,
   "metadata": {},
   "outputs": [
    {
     "data": {
      "text/plain": "[0.1, 0.2, 0.3, 0.4, 0.5, 0.6]"
     },
     "execution_count": 37,
     "metadata": {},
     "output_type": "execute_result"
    }
   ],
   "source": [
    "column_names"
   ]
  },
  {
   "cell_type": "code",
   "execution_count": 26,
   "metadata": {},
   "outputs": [],
   "source": [
    "index_names=[\"n>=\" + str(s) for s in n_range]"
   ]
  },
  {
   "cell_type": "code",
   "execution_count": null,
   "metadata": {},
   "outputs": [],
   "source": [
    "for x, y in [(x,y) for x in s_range for y in n_range]:\n",
    "\n",
    "    column_names= "
   ]
  },
  {
   "cell_type": "code",
   "execution_count": 19,
   "metadata": {},
   "outputs": [
    {
     "name": "stdout",
     "output_type": "stream",
     "text": [
      "0.1 1\n",
      "0.1 2\n",
      "0.1 3\n",
      "0.1 4\n",
      "0.1 5\n",
      "0.2 1\n",
      "0.2 2\n",
      "0.2 3\n",
      "0.2 4\n",
      "0.2 5\n",
      "0.3 1\n",
      "0.3 2\n",
      "0.3 3\n",
      "0.3 4\n",
      "0.3 5\n",
      "0.4 1\n",
      "0.4 2\n",
      "0.4 3\n",
      "0.4 4\n",
      "0.4 5\n",
      "0.5 1\n",
      "0.5 2\n",
      "0.5 3\n",
      "0.5 4\n",
      "0.5 5\n",
      "0.6 1\n",
      "0.6 2\n",
      "0.6 3\n",
      "0.6 4\n",
      "0.6 5\n"
     ]
    }
   ],
   "source": [
    "for x in s_range:\n",
    "    for y in n_range:\n",
    "        print(x,y)"
   ]
  },
  {
   "cell_type": "code",
   "execution_count": 9,
   "metadata": {},
   "outputs": [],
   "source": [
    "from ks_test import ks_test_calc\n",
    "ks_test_results=ks_test_calc(input_data_w_scores, random_mapping)"
   ]
  },
  {
   "cell_type": "code",
   "execution_count": 11,
   "metadata": {},
   "outputs": [
    {
     "data": {
      "text/html": "<div>\n<style scoped>\n    .dataframe tbody tr th:only-of-type {\n        vertical-align: middle;\n    }\n\n    .dataframe tbody tr th {\n        vertical-align: top;\n    }\n\n    .dataframe thead th {\n        text-align: right;\n    }\n</style>\n<table border=\"1\" class=\"dataframe\">\n  <thead>\n    <tr style=\"text-align: right;\">\n      <th></th>\n      <th>s&lt;0.1</th>\n      <th>s&lt;0.2</th>\n      <th>s&lt;0.3</th>\n      <th>s&lt;0.4</th>\n      <th>s&lt;0.5</th>\n      <th>s&lt;0.6</th>\n    </tr>\n  </thead>\n  <tbody>\n    <tr>\n      <th>n&gt;=1</th>\n      <td>(0.2, 0.8319696107963263)</td>\n      <td>(0.25, 0.16497269950224194)</td>\n      <td>(0.43333333333333335, 1.9360373938277886e-05)</td>\n      <td>(0.5625, 5.265952465226643e-12)</td>\n      <td>(0.64, 1.424536470142474e-19)</td>\n      <td>(0.6916666666666667, 1.0003424808937669e-27)</td>\n    </tr>\n    <tr>\n      <th>n&gt;=2</th>\n      <td>(0.65, 0.0002704973445409677)</td>\n      <td>(0.75, 3.063035734104128e-11)</td>\n      <td>(0.7833333333333333, 1.8131121649108368e-18)</td>\n      <td>(0.8, 8.821650984931484e-26)</td>\n      <td>(0.8, 3.5640292810890176e-32)</td>\n      <td>(0.8083333333333333, 1.5921244389855162e-39)</td>\n    </tr>\n    <tr>\n      <th>n&gt;=3</th>\n      <td>(0.7, 5.569062975843453e-05)</td>\n      <td>(0.8, 5.392668545957972e-13)</td>\n      <td>(0.85, 2.1645919445905426e-22)</td>\n      <td>(0.8625, 6.737946693043326e-31)</td>\n      <td>(0.87, 1.9509242595079607e-39)</td>\n      <td>(0.8666666666666667, 7.642411613083631e-47)</td>\n    </tr>\n    <tr>\n      <th>n&gt;=4</th>\n      <td>(0.7, 5.569062975843453e-05)</td>\n      <td>(0.8, 5.392668545957972e-13)</td>\n      <td>(0.85, 2.1645919445905426e-22)</td>\n      <td>(0.875, 4.941160908231773e-32)</td>\n      <td>(0.87, 1.9509242595079607e-39)</td>\n      <td>(0.875, 5.43460381374836e-48)</td>\n    </tr>\n    <tr>\n      <th>n&gt;=5</th>\n      <td>(0.7, 5.569062975843453e-05)</td>\n      <td>(0.8, 5.392668545957972e-13)</td>\n      <td>(0.85, 2.1645919445905426e-22)</td>\n      <td>(0.875, 4.941160908231773e-32)</td>\n      <td>(0.88, 1.349043370936356e-40)</td>\n      <td>(0.875, 5.43460381374836e-48)</td>\n    </tr>\n  </tbody>\n</table>\n</div>",
      "text/plain": "                              s<0.1                          s<0.2  \\\nn>=1      (0.2, 0.8319696107963263)    (0.25, 0.16497269950224194)   \nn>=2  (0.65, 0.0002704973445409677)  (0.75, 3.063035734104128e-11)   \nn>=3   (0.7, 5.569062975843453e-05)   (0.8, 5.392668545957972e-13)   \nn>=4   (0.7, 5.569062975843453e-05)   (0.8, 5.392668545957972e-13)   \nn>=5   (0.7, 5.569062975843453e-05)   (0.8, 5.392668545957972e-13)   \n\n                                              s<0.3  \\\nn>=1  (0.43333333333333335, 1.9360373938277886e-05)   \nn>=2   (0.7833333333333333, 1.8131121649108368e-18)   \nn>=3                 (0.85, 2.1645919445905426e-22)   \nn>=4                 (0.85, 2.1645919445905426e-22)   \nn>=5                 (0.85, 2.1645919445905426e-22)   \n\n                                s<0.4                           s<0.5  \\\nn>=1  (0.5625, 5.265952465226643e-12)   (0.64, 1.424536470142474e-19)   \nn>=2     (0.8, 8.821650984931484e-26)   (0.8, 3.5640292810890176e-32)   \nn>=3  (0.8625, 6.737946693043326e-31)  (0.87, 1.9509242595079607e-39)   \nn>=4   (0.875, 4.941160908231773e-32)  (0.87, 1.9509242595079607e-39)   \nn>=5   (0.875, 4.941160908231773e-32)   (0.88, 1.349043370936356e-40)   \n\n                                             s<0.6  \nn>=1  (0.6916666666666667, 1.0003424808937669e-27)  \nn>=2  (0.8083333333333333, 1.5921244389855162e-39)  \nn>=3   (0.8666666666666667, 7.642411613083631e-47)  \nn>=4                 (0.875, 5.43460381374836e-48)  \nn>=5                 (0.875, 5.43460381374836e-48)  "
     },
     "execution_count": 11,
     "metadata": {},
     "output_type": "execute_result"
    }
   ],
   "source": [
    "ks_test_results"
   ]
  },
  {
   "cell_type": "code",
   "execution_count": 26,
   "metadata": {},
   "outputs": [],
   "source": [
    "import numpy as np\n",
    "original_subset = input_data_w_scores.loc[(input_data_w_scores[\"n\"] >= 1 ) & (input_data_w_scores[\"s\"] < 0.1 )]\n",
    "bins=np.histogram(original_subset[\"s\"], bins=np.arange(0, 0.1+0.001, 0.005))[0]"
   ]
  },
  {
   "cell_type": "code",
   "execution_count": 27,
   "metadata": {},
   "outputs": [
    {
     "data": {
      "text/plain": "array([1132479,  291924,  155251,   95819,   67060,   50859,   35813,\n         28376,   24586,   18095,   16871,   13442,   11934,    9812,\n          8834,    6862,    7832,    5935,    4953,    4582])"
     },
     "execution_count": 27,
     "metadata": {},
     "output_type": "execute_result"
    }
   ],
   "source": [
    "bins"
   ]
  },
  {
   "cell_type": "code",
   "execution_count": 38,
   "metadata": {},
   "outputs": [],
   "source": [
    "plt.ioff()\n",
    "o_hist=input_data_w_scores[input_data_w_scores[\"s\"] < 0.1][\"s\"]\n",
    "r_hist=random_mapping[random_mapping[\"s\"] < 0.1][\"s\"]\n",
    "bins=np.arange(0, 1, 0.025)\n",
    "n1s01 = plt.figure()\n",
    "plt.hist(r_hist, bins, alpha=0.5, log=True, edgecolor= \"white\", facecolor= \"#7A72BD\", label=\"Randomized Mapping\") \n",
    "plt.hist(o_hist, bins, alpha=1, log=True, edgecolor= \"white\", facecolor= \"#4AA3A0\", label=\"Original Mapping\") \n",
    "plt.legend(loc='upper right')\n",
    "plt.suptitle(\" Co-occurence Similarity Distribution (n≥1, S<0.1)\", fontsize=12)\n",
    "plt.xlabel('Co-occurence similarity bins', fontsize=12)\n",
    "plt.ylabel('# of unique mappings', fontsize=12)\n",
    "n1s01.set_figwidth(8)\n",
    "n1s01.set_figheight(5)\n",
    "\n",
    "plt.savefig(\"/Volumes/ErvaSP/GitHub/Domain2GO/outputs/deneme.png\")\n",
    "plt.close(n1s01)"
   ]
  },
  {
   "cell_type": "code",
   "execution_count": null,
   "metadata": {},
   "outputs": [],
   "source": [
    "os.mkdir(\"/Volumes/ErvaSP/GitHub/Domain2GO/input_data/deneme_dir)"
   ]
  },
  {
   "cell_type": "markdown",
   "metadata": {},
   "source": [
    "# EM"
   ]
  },
  {
   "cell_type": "code",
   "execution_count": 7,
   "metadata": {},
   "outputs": [],
   "source": [
    "em_subset=input_data_w_scores[input_data_w_scores[\"s\"] >= 0.1]"
   ]
  },
  {
   "cell_type": "code",
   "execution_count": 9,
   "metadata": {},
   "outputs": [],
   "source": [
    "subset_mapping= pd.merge(input_data, em_subset, on=(\"GO\", \"Interpro\"))[[\"GO\", \"Uniprot\", \"Interpro\"]]"
   ]
  },
  {
   "cell_type": "code",
   "execution_count": 10,
   "metadata": {},
   "outputs": [
    {
     "data": {
      "text/html": "<div>\n<style scoped>\n    .dataframe tbody tr th:only-of-type {\n        vertical-align: middle;\n    }\n\n    .dataframe tbody tr th {\n        vertical-align: top;\n    }\n\n    .dataframe thead th {\n        text-align: right;\n    }\n</style>\n<table border=\"1\" class=\"dataframe\">\n  <thead>\n    <tr style=\"text-align: right;\">\n      <th></th>\n      <th>GO</th>\n      <th>Uniprot</th>\n      <th>Interpro</th>\n    </tr>\n  </thead>\n  <tbody>\n    <tr>\n      <th>0</th>\n      <td>GO:0071617</td>\n      <td>Q3UN02</td>\n      <td>IPR002123</td>\n    </tr>\n    <tr>\n      <th>1</th>\n      <td>GO:0071617</td>\n      <td>Q8K3K7</td>\n      <td>IPR002123</td>\n    </tr>\n    <tr>\n      <th>2</th>\n      <td>GO:0071617</td>\n      <td>O35083</td>\n      <td>IPR002123</td>\n    </tr>\n    <tr>\n      <th>3</th>\n      <td>GO:0071617</td>\n      <td>Q16635</td>\n      <td>IPR002123</td>\n    </tr>\n    <tr>\n      <th>4</th>\n      <td>GO:0071617</td>\n      <td>Q5E9R2</td>\n      <td>IPR002123</td>\n    </tr>\n    <tr>\n      <th>...</th>\n      <td>...</td>\n      <td>...</td>\n      <td>...</td>\n    </tr>\n    <tr>\n      <th>1314933</th>\n      <td>GO:0019046</td>\n      <td>Q05246</td>\n      <td>IPR010093</td>\n    </tr>\n    <tr>\n      <th>1314934</th>\n      <td>GO:0032359</td>\n      <td>Q05246</td>\n      <td>IPR041657</td>\n    </tr>\n    <tr>\n      <th>1314935</th>\n      <td>GO:0032359</td>\n      <td>Q05246</td>\n      <td>IPR010093</td>\n    </tr>\n    <tr>\n      <th>1314936</th>\n      <td>GO:0019045</td>\n      <td>Q05246</td>\n      <td>IPR041657</td>\n    </tr>\n    <tr>\n      <th>1314937</th>\n      <td>GO:0019045</td>\n      <td>Q05246</td>\n      <td>IPR010093</td>\n    </tr>\n  </tbody>\n</table>\n<p>1314938 rows × 3 columns</p>\n</div>",
      "text/plain": "                 GO Uniprot   Interpro\n0        GO:0071617  Q3UN02  IPR002123\n1        GO:0071617  Q8K3K7  IPR002123\n2        GO:0071617  O35083  IPR002123\n3        GO:0071617  Q16635  IPR002123\n4        GO:0071617  Q5E9R2  IPR002123\n...             ...     ...        ...\n1314933  GO:0019046  Q05246  IPR010093\n1314934  GO:0032359  Q05246  IPR041657\n1314935  GO:0032359  Q05246  IPR010093\n1314936  GO:0019045  Q05246  IPR041657\n1314937  GO:0019045  Q05246  IPR010093\n\n[1314938 rows x 3 columns]"
     },
     "execution_count": 10,
     "metadata": {},
     "output_type": "execute_result"
    }
   ],
   "source": [
    "subset_mapping"
   ]
  },
  {
   "cell_type": "code",
   "execution_count": 11,
   "metadata": {},
   "outputs": [],
   "source": [
    "subset_mapping[\"possible\"] = subset_mapping.groupby(by=['GO','Interpro'])['GO'].transform('size')"
   ]
  },
  {
   "cell_type": "code",
   "execution_count": 12,
   "metadata": {},
   "outputs": [
    {
     "data": {
      "text/html": "<div>\n<style scoped>\n    .dataframe tbody tr th:only-of-type {\n        vertical-align: middle;\n    }\n\n    .dataframe tbody tr th {\n        vertical-align: top;\n    }\n\n    .dataframe thead th {\n        text-align: right;\n    }\n</style>\n<table border=\"1\" class=\"dataframe\">\n  <thead>\n    <tr style=\"text-align: right;\">\n      <th></th>\n      <th>GO</th>\n      <th>Uniprot</th>\n      <th>Interpro</th>\n      <th>possible</th>\n    </tr>\n  </thead>\n  <tbody>\n    <tr>\n      <th>0</th>\n      <td>GO:0071617</td>\n      <td>Q3UN02</td>\n      <td>IPR002123</td>\n      <td>44</td>\n    </tr>\n    <tr>\n      <th>1</th>\n      <td>GO:0071617</td>\n      <td>Q8K3K7</td>\n      <td>IPR002123</td>\n      <td>44</td>\n    </tr>\n    <tr>\n      <th>2</th>\n      <td>GO:0071617</td>\n      <td>O35083</td>\n      <td>IPR002123</td>\n      <td>44</td>\n    </tr>\n    <tr>\n      <th>3</th>\n      <td>GO:0071617</td>\n      <td>Q16635</td>\n      <td>IPR002123</td>\n      <td>44</td>\n    </tr>\n    <tr>\n      <th>4</th>\n      <td>GO:0071617</td>\n      <td>Q5E9R2</td>\n      <td>IPR002123</td>\n      <td>44</td>\n    </tr>\n    <tr>\n      <th>...</th>\n      <td>...</td>\n      <td>...</td>\n      <td>...</td>\n      <td>...</td>\n    </tr>\n    <tr>\n      <th>1314933</th>\n      <td>GO:0019046</td>\n      <td>Q05246</td>\n      <td>IPR010093</td>\n      <td>1</td>\n    </tr>\n    <tr>\n      <th>1314934</th>\n      <td>GO:0032359</td>\n      <td>Q05246</td>\n      <td>IPR041657</td>\n      <td>1</td>\n    </tr>\n    <tr>\n      <th>1314935</th>\n      <td>GO:0032359</td>\n      <td>Q05246</td>\n      <td>IPR010093</td>\n      <td>1</td>\n    </tr>\n    <tr>\n      <th>1314936</th>\n      <td>GO:0019045</td>\n      <td>Q05246</td>\n      <td>IPR041657</td>\n      <td>1</td>\n    </tr>\n    <tr>\n      <th>1314937</th>\n      <td>GO:0019045</td>\n      <td>Q05246</td>\n      <td>IPR010093</td>\n      <td>1</td>\n    </tr>\n  </tbody>\n</table>\n<p>1314938 rows × 4 columns</p>\n</div>",
      "text/plain": "                 GO Uniprot   Interpro  possible\n0        GO:0071617  Q3UN02  IPR002123        44\n1        GO:0071617  Q8K3K7  IPR002123        44\n2        GO:0071617  O35083  IPR002123        44\n3        GO:0071617  Q16635  IPR002123        44\n4        GO:0071617  Q5E9R2  IPR002123        44\n...             ...     ...        ...       ...\n1314933  GO:0019046  Q05246  IPR010093         1\n1314934  GO:0032359  Q05246  IPR041657         1\n1314935  GO:0032359  Q05246  IPR010093         1\n1314936  GO:0019045  Q05246  IPR041657         1\n1314937  GO:0019045  Q05246  IPR010093         1\n\n[1314938 rows x 4 columns]"
     },
     "execution_count": 12,
     "metadata": {},
     "output_type": "execute_result"
    }
   ],
   "source": [
    "subset_mapping"
   ]
  },
  {
   "cell_type": "code",
   "execution_count": 8,
   "metadata": {},
   "outputs": [],
   "source": [
    "from EM_algorithm import calculate_initial_theta\n",
    "initial_theta = calculate_initial_theta(input_data, input_data_w_scores)"
   ]
  },
  {
   "cell_type": "code",
   "execution_count": 10,
   "metadata": {},
   "outputs": [
    {
     "data": {
      "text/html": "<div>\n<style scoped>\n    .dataframe tbody tr th:only-of-type {\n        vertical-align: middle;\n    }\n\n    .dataframe tbody tr th {\n        vertical-align: top;\n    }\n\n    .dataframe thead th {\n        text-align: right;\n    }\n</style>\n<table border=\"1\" class=\"dataframe\">\n  <thead>\n    <tr style=\"text-align: right;\">\n      <th></th>\n      <th>GO</th>\n      <th>Uniprot</th>\n      <th>Interpro</th>\n      <th>possible</th>\n      <th>reported</th>\n      <th>initial_theta</th>\n    </tr>\n  </thead>\n  <tbody>\n    <tr>\n      <th>0</th>\n      <td>GO:0071617</td>\n      <td>Q3UN02</td>\n      <td>IPR002123</td>\n      <td>44</td>\n      <td>0</td>\n      <td>0.021739</td>\n    </tr>\n    <tr>\n      <th>1</th>\n      <td>GO:0071617</td>\n      <td>Q8K3K7</td>\n      <td>IPR002123</td>\n      <td>44</td>\n      <td>0</td>\n      <td>0.021739</td>\n    </tr>\n    <tr>\n      <th>2</th>\n      <td>GO:0071617</td>\n      <td>O35083</td>\n      <td>IPR002123</td>\n      <td>44</td>\n      <td>0</td>\n      <td>0.021739</td>\n    </tr>\n    <tr>\n      <th>3</th>\n      <td>GO:0071617</td>\n      <td>Q16635</td>\n      <td>IPR002123</td>\n      <td>44</td>\n      <td>0</td>\n      <td>0.021739</td>\n    </tr>\n    <tr>\n      <th>4</th>\n      <td>GO:0071617</td>\n      <td>Q5E9R2</td>\n      <td>IPR002123</td>\n      <td>44</td>\n      <td>0</td>\n      <td>0.021739</td>\n    </tr>\n    <tr>\n      <th>...</th>\n      <td>...</td>\n      <td>...</td>\n      <td>...</td>\n      <td>...</td>\n      <td>...</td>\n      <td>...</td>\n    </tr>\n    <tr>\n      <th>1314933</th>\n      <td>GO:0019046</td>\n      <td>Q05246</td>\n      <td>IPR010093</td>\n      <td>1</td>\n      <td>0</td>\n      <td>0.333333</td>\n    </tr>\n    <tr>\n      <th>1314934</th>\n      <td>GO:0032359</td>\n      <td>Q05246</td>\n      <td>IPR041657</td>\n      <td>1</td>\n      <td>0</td>\n      <td>0.333333</td>\n    </tr>\n    <tr>\n      <th>1314935</th>\n      <td>GO:0032359</td>\n      <td>Q05246</td>\n      <td>IPR010093</td>\n      <td>1</td>\n      <td>0</td>\n      <td>0.333333</td>\n    </tr>\n    <tr>\n      <th>1314936</th>\n      <td>GO:0019045</td>\n      <td>Q05246</td>\n      <td>IPR041657</td>\n      <td>1</td>\n      <td>0</td>\n      <td>0.333333</td>\n    </tr>\n    <tr>\n      <th>1314937</th>\n      <td>GO:0019045</td>\n      <td>Q05246</td>\n      <td>IPR010093</td>\n      <td>1</td>\n      <td>0</td>\n      <td>0.333333</td>\n    </tr>\n  </tbody>\n</table>\n<p>1314938 rows × 6 columns</p>\n</div>",
      "text/plain": "                 GO Uniprot   Interpro  possible  reported  initial_theta\n0        GO:0071617  Q3UN02  IPR002123        44         0       0.021739\n1        GO:0071617  Q8K3K7  IPR002123        44         0       0.021739\n2        GO:0071617  O35083  IPR002123        44         0       0.021739\n3        GO:0071617  Q16635  IPR002123        44         0       0.021739\n4        GO:0071617  Q5E9R2  IPR002123        44         0       0.021739\n...             ...     ...        ...       ...       ...            ...\n1314933  GO:0019046  Q05246  IPR010093         1         0       0.333333\n1314934  GO:0032359  Q05246  IPR041657         1         0       0.333333\n1314935  GO:0032359  Q05246  IPR010093         1         0       0.333333\n1314936  GO:0019045  Q05246  IPR041657         1         0       0.333333\n1314937  GO:0019045  Q05246  IPR010093         1         0       0.333333\n\n[1314938 rows x 6 columns]"
     },
     "execution_count": 10,
     "metadata": {},
     "output_type": "execute_result"
    }
   ],
   "source": [
    "initial_theta"
   ]
  },
  {
   "cell_type": "code",
   "execution_count": 15,
   "metadata": {},
   "outputs": [],
   "source": [
    "pairs = list(zip(initial_theta[\"Uniprot\"], initial_theta[\"GO\"],  initial_theta[\"Interpro\"]))\n",
    "C = {}\n",
    "for p,g,i in pairs:\n",
    "    C[p] = {}\n",
    "for p,g,i in pairs:\n",
    "    C[p][(g,i)] = 1.0"
   ]
  },
  {
   "cell_type": "code",
   "execution_count": 18,
   "metadata": {},
   "outputs": [],
   "source": [
    "M = {}\n",
    "N = {}\n",
    "\n",
    "for p,g,i in pairs:\n",
    "    M[(g,i)] = 0.0\n",
    "    N[(g,i)] = 0.0\n"
   ]
  },
  {
   "cell_type": "code",
   "execution_count": 20,
   "metadata": {},
   "outputs": [],
   "source": [
    "for e in C.keys():\n",
    "    for i,j in C[e]:\n",
    "        M[(i,j)] += C[e][(i,j)]\n",
    "        N[(i,j)] += 1 - C[e][(i,j)]"
   ]
  },
  {
   "cell_type": "code",
   "execution_count": null,
   "metadata": {},
   "outputs": [],
   "source": [
    "pd.read_csv(\"\")"
   ]
  },
  {
   "cell_type": "code",
   "execution_count": 32,
   "metadata": {},
   "outputs": [
    {
     "data": {
      "text/html": "<div>\n<style scoped>\n    .dataframe tbody tr th:only-of-type {\n        vertical-align: middle;\n    }\n\n    .dataframe tbody tr th {\n        vertical-align: top;\n    }\n\n    .dataframe thead th {\n        text-align: right;\n    }\n</style>\n<table border=\"1\" class=\"dataframe\">\n  <thead>\n    <tr style=\"text-align: right;\">\n      <th></th>\n      <th>GO</th>\n      <th>Interpro</th>\n    </tr>\n  </thead>\n  <tbody>\n    <tr>\n      <th>0</th>\n      <td>GO:0003677</td>\n      <td>IPR000003</td>\n    </tr>\n    <tr>\n      <th>1</th>\n      <td>GO:0003707</td>\n      <td>IPR000003</td>\n    </tr>\n    <tr>\n      <th>2</th>\n      <td>GO:0008270</td>\n      <td>IPR000003</td>\n    </tr>\n    <tr>\n      <th>3</th>\n      <td>GO:0006355</td>\n      <td>IPR000003</td>\n    </tr>\n    <tr>\n      <th>4</th>\n      <td>GO:0005634</td>\n      <td>IPR000003</td>\n    </tr>\n    <tr>\n      <th>...</th>\n      <td>...</td>\n      <td>...</td>\n    </tr>\n    <tr>\n      <th>34842</th>\n      <td>GO:0001516</td>\n      <td>IPR044499</td>\n    </tr>\n    <tr>\n      <th>34843</th>\n      <td>GO:0016491</td>\n      <td>IPR044500</td>\n    </tr>\n    <tr>\n      <th>34844</th>\n      <td>GO:0004659</td>\n      <td>IPR044502</td>\n    </tr>\n    <tr>\n      <th>34845</th>\n      <td>GO:0016491</td>\n      <td>IPR044503</td>\n    </tr>\n    <tr>\n      <th>34846</th>\n      <td>GO:0050580</td>\n      <td>IPR044504</td>\n    </tr>\n  </tbody>\n</table>\n<p>34847 rows × 2 columns</p>\n</div>",
      "text/plain": "               GO   Interpro\n0      GO:0003677  IPR000003\n1      GO:0003707  IPR000003\n2      GO:0008270  IPR000003\n3      GO:0006355  IPR000003\n4      GO:0005634  IPR000003\n...           ...        ...\n34842  GO:0001516  IPR044499\n34843  GO:0016491  IPR044500\n34844  GO:0004659  IPR044502\n34845  GO:0016491  IPR044503\n34846  GO:0050580  IPR044504\n\n[34847 rows x 2 columns]"
     },
     "execution_count": 32,
     "metadata": {},
     "output_type": "execute_result"
    }
   ],
   "source": [
    "curated_data = pd.read_csv(\"/Volumes/ErvaSP/GitHub/Domain2GO/input_data/interpro2go_2021.txt\", delimiter = \" \")\n",
    "curated_data.columns = [\"GO\", \"Interpro\"]\n",
    "curated_data"
   ]
  },
  {
   "cell_type": "code",
   "execution_count": 33,
   "metadata": {},
   "outputs": [
    {
     "data": {
      "text/html": "<div>\n<style scoped>\n    .dataframe tbody tr th:only-of-type {\n        vertical-align: middle;\n    }\n\n    .dataframe tbody tr th {\n        vertical-align: top;\n    }\n\n    .dataframe thead th {\n        text-align: right;\n    }\n</style>\n<table border=\"1\" class=\"dataframe\">\n  <thead>\n    <tr style=\"text-align: right;\">\n      <th></th>\n      <th>GO</th>\n      <th>Interpro</th>\n      <th>Z</th>\n    </tr>\n  </thead>\n  <tbody>\n    <tr>\n      <th>0</th>\n      <td>GO:0000001</td>\n      <td>IPR019411</td>\n      <td>30</td>\n    </tr>\n    <tr>\n      <th>1</th>\n      <td>GO:0000001</td>\n      <td>IPR024774</td>\n      <td>15</td>\n    </tr>\n    <tr>\n      <th>2</th>\n      <td>GO:0000001</td>\n      <td>IPR031468</td>\n      <td>57</td>\n    </tr>\n    <tr>\n      <th>3</th>\n      <td>GO:0000002</td>\n      <td>IPR018850</td>\n      <td>35</td>\n    </tr>\n    <tr>\n      <th>4</th>\n      <td>GO:0000002</td>\n      <td>IPR019411</td>\n      <td>41</td>\n    </tr>\n    <tr>\n      <th>...</th>\n      <td>...</td>\n      <td>...</td>\n      <td>...</td>\n    </tr>\n    <tr>\n      <th>78472</th>\n      <td>GO:2001304</td>\n      <td>IPR042062</td>\n      <td>18</td>\n    </tr>\n    <tr>\n      <th>78473</th>\n      <td>GO:2001305</td>\n      <td>IPR013910</td>\n      <td>5</td>\n    </tr>\n    <tr>\n      <th>78474</th>\n      <td>GO:2001306</td>\n      <td>IPR013819</td>\n      <td>31</td>\n    </tr>\n    <tr>\n      <th>78475</th>\n      <td>GO:2001306</td>\n      <td>IPR042062</td>\n      <td>18</td>\n    </tr>\n    <tr>\n      <th>78476</th>\n      <td>GO:2001307</td>\n      <td>IPR013910</td>\n      <td>5</td>\n    </tr>\n  </tbody>\n</table>\n<p>78477 rows × 3 columns</p>\n</div>",
      "text/plain": "               GO   Interpro   Z\n0      GO:0000001  IPR019411  30\n1      GO:0000001  IPR024774  15\n2      GO:0000001  IPR031468  57\n3      GO:0000002  IPR018850  35\n4      GO:0000002  IPR019411  41\n...           ...        ...  ..\n78472  GO:2001304  IPR042062  18\n78473  GO:2001305  IPR013910   5\n78474  GO:2001306  IPR013819  31\n78475  GO:2001306  IPR042062  18\n78476  GO:2001307  IPR013910   5\n\n[78477 rows x 3 columns]"
     },
     "execution_count": 33,
     "metadata": {},
     "output_type": "execute_result"
    }
   ],
   "source": [
    "z_scores = pd.read_csv(\"/Volumes/ErvaSP/GitHub/Domain2GO/input_data/em_z_scores.txt\", delimiter = \" \")\n",
    "z_scores.columns=[\"GO\", \"Interpro\", \"Z\"]\n",
    "z_scores"
   ]
  },
  {
   "cell_type": "code",
   "execution_count": 36,
   "metadata": {},
   "outputs": [
    {
     "data": {
      "text/html": "<div>\n<style scoped>\n    .dataframe tbody tr th:only-of-type {\n        vertical-align: middle;\n    }\n\n    .dataframe tbody tr th {\n        vertical-align: top;\n    }\n\n    .dataframe thead th {\n        text-align: right;\n    }\n</style>\n<table border=\"1\" class=\"dataframe\">\n  <thead>\n    <tr style=\"text-align: right;\">\n      <th></th>\n      <th>GO</th>\n      <th>Interpro</th>\n      <th>Z</th>\n    </tr>\n  </thead>\n  <tbody>\n    <tr>\n      <th>60668</th>\n      <td>GO:0071617</td>\n      <td>IPR002123</td>\n      <td>96</td>\n    </tr>\n  </tbody>\n</table>\n</div>",
      "text/plain": "               GO   Interpro   Z\n60668  GO:0071617  IPR002123  96"
     },
     "execution_count": 36,
     "metadata": {},
     "output_type": "execute_result"
    }
   ],
   "source": [
    "z_scores[(z_scores[\"GO\"] == \"GO:0071617\") & (z_scores[\"Interpro\"] == \"IPR002123\")]"
   ]
  },
  {
   "cell_type": "code",
   "execution_count": 41,
   "metadata": {},
   "outputs": [],
   "source": [
    "z_score_list = []\n",
    "for key in M.keys():\n",
    "    go = key[0]\n",
    "    interpro = key[1]\n",
    "    z_score_list.append(z_scores[(z_scores[\"GO\"] == go) & (z_scores[\"Interpro\"] == interpro)][\"Z\"])"
   ]
  },
  {
   "cell_type": "code",
   "execution_count": 43,
   "metadata": {},
   "outputs": [
    {
     "data": {
      "text/plain": "78477"
     },
     "execution_count": 43,
     "metadata": {},
     "output_type": "execute_result"
    }
   ],
   "source": [
    "len(M.keys())"
   ]
  },
  {
   "cell_type": "code",
   "execution_count": 45,
   "metadata": {},
   "outputs": [
    {
     "data": {
      "text/plain": "1314938"
     },
     "execution_count": 45,
     "metadata": {},
     "output_type": "execute_result"
    }
   ],
   "source": [
    "len(initial_theta)"
   ]
  },
  {
   "cell_type": "code",
   "execution_count": 51,
   "metadata": {},
   "outputs": [],
   "source": [
    "z_score_list = []\n",
    "for x in range(len(initial_theta)):\n",
    "    go = initial_theta[\"GO\"][x]\n",
    "    interpro = initial_theta[\"Interpro\"][x]\n",
    "    z_score_list.append(z_scores[(z_scores[\"GO\"] == go) & (z_scores[\"Interpro\"] == interpro)][\"Z\"])"
   ]
  },
  {
   "cell_type": "code",
   "execution_count": 47,
   "metadata": {},
   "outputs": [
    {
     "data": {
      "text/html": "<div>\n<style scoped>\n    .dataframe tbody tr th:only-of-type {\n        vertical-align: middle;\n    }\n\n    .dataframe tbody tr th {\n        vertical-align: top;\n    }\n\n    .dataframe thead th {\n        text-align: right;\n    }\n</style>\n<table border=\"1\" class=\"dataframe\">\n  <thead>\n    <tr style=\"text-align: right;\">\n      <th></th>\n      <th>GO</th>\n      <th>Uniprot</th>\n      <th>Interpro</th>\n      <th>possible</th>\n      <th>reported</th>\n      <th>initial_theta</th>\n    </tr>\n  </thead>\n  <tbody>\n    <tr>\n      <th>0</th>\n      <td>GO:0071617</td>\n      <td>Q3UN02</td>\n      <td>IPR002123</td>\n      <td>44</td>\n      <td>0</td>\n      <td>0.021739</td>\n    </tr>\n    <tr>\n      <th>1</th>\n      <td>GO:0071617</td>\n      <td>Q8K3K7</td>\n      <td>IPR002123</td>\n      <td>44</td>\n      <td>0</td>\n      <td>0.021739</td>\n    </tr>\n    <tr>\n      <th>2</th>\n      <td>GO:0071617</td>\n      <td>O35083</td>\n      <td>IPR002123</td>\n      <td>44</td>\n      <td>0</td>\n      <td>0.021739</td>\n    </tr>\n    <tr>\n      <th>3</th>\n      <td>GO:0071617</td>\n      <td>Q16635</td>\n      <td>IPR002123</td>\n      <td>44</td>\n      <td>0</td>\n      <td>0.021739</td>\n    </tr>\n    <tr>\n      <th>4</th>\n      <td>GO:0071617</td>\n      <td>Q5E9R2</td>\n      <td>IPR002123</td>\n      <td>44</td>\n      <td>0</td>\n      <td>0.021739</td>\n    </tr>\n    <tr>\n      <th>...</th>\n      <td>...</td>\n      <td>...</td>\n      <td>...</td>\n      <td>...</td>\n      <td>...</td>\n      <td>...</td>\n    </tr>\n    <tr>\n      <th>1314933</th>\n      <td>GO:0019046</td>\n      <td>Q05246</td>\n      <td>IPR010093</td>\n      <td>1</td>\n      <td>0</td>\n      <td>0.333333</td>\n    </tr>\n    <tr>\n      <th>1314934</th>\n      <td>GO:0032359</td>\n      <td>Q05246</td>\n      <td>IPR041657</td>\n      <td>1</td>\n      <td>0</td>\n      <td>0.333333</td>\n    </tr>\n    <tr>\n      <th>1314935</th>\n      <td>GO:0032359</td>\n      <td>Q05246</td>\n      <td>IPR010093</td>\n      <td>1</td>\n      <td>0</td>\n      <td>0.333333</td>\n    </tr>\n    <tr>\n      <th>1314936</th>\n      <td>GO:0019045</td>\n      <td>Q05246</td>\n      <td>IPR041657</td>\n      <td>1</td>\n      <td>0</td>\n      <td>0.333333</td>\n    </tr>\n    <tr>\n      <th>1314937</th>\n      <td>GO:0019045</td>\n      <td>Q05246</td>\n      <td>IPR010093</td>\n      <td>1</td>\n      <td>0</td>\n      <td>0.333333</td>\n    </tr>\n  </tbody>\n</table>\n<p>1314938 rows × 6 columns</p>\n</div>",
      "text/plain": "                 GO Uniprot   Interpro  possible  reported  initial_theta\n0        GO:0071617  Q3UN02  IPR002123        44         0       0.021739\n1        GO:0071617  Q8K3K7  IPR002123        44         0       0.021739\n2        GO:0071617  O35083  IPR002123        44         0       0.021739\n3        GO:0071617  Q16635  IPR002123        44         0       0.021739\n4        GO:0071617  Q5E9R2  IPR002123        44         0       0.021739\n...             ...     ...        ...       ...       ...            ...\n1314933  GO:0019046  Q05246  IPR010093         1         0       0.333333\n1314934  GO:0032359  Q05246  IPR041657         1         0       0.333333\n1314935  GO:0032359  Q05246  IPR010093         1         0       0.333333\n1314936  GO:0019045  Q05246  IPR041657         1         0       0.333333\n1314937  GO:0019045  Q05246  IPR010093         1         0       0.333333\n\n[1314938 rows x 6 columns]"
     },
     "execution_count": 47,
     "metadata": {},
     "output_type": "execute_result"
    }
   ],
   "source": [
    "initial_theta"
   ]
  },
  {
   "cell_type": "code",
   "execution_count": 54,
   "metadata": {},
   "outputs": [],
   "source": [
    "new_z_scores = initial_theta[[\"GO\", \"Interpro\"]]"
   ]
  },
  {
   "cell_type": "code",
   "execution_count": null,
   "metadata": {},
   "outputs": [],
   "source": [
    "new_z_scores[\"Z\"]"
   ]
  },
  {
   "cell_type": "code",
   "execution_count": 65,
   "metadata": {},
   "outputs": [],
   "source": [
    "z_score_list_values = [i.values[0] for i in z_score_list]"
   ]
  },
  {
   "cell_type": "code",
   "execution_count": 67,
   "metadata": {},
   "outputs": [
    {
     "name": "stderr",
     "output_type": "stream",
     "text": [
      "/var/folders/_g/vd_rpn_x7lb_rx_5j2hjfj9r0000gn/T/ipykernel_3801/744610139.py:1: SettingWithCopyWarning: \n",
      "A value is trying to be set on a copy of a slice from a DataFrame.\n",
      "Try using .loc[row_indexer,col_indexer] = value instead\n",
      "\n",
      "See the caveats in the documentation: https://pandas.pydata.org/pandas-docs/stable/user_guide/indexing.html#returning-a-view-versus-a-copy\n",
      "  new_z_scores[\"Z\"] = z_score_list_values\n"
     ]
    }
   ],
   "source": [
    "new_z_scores[\"Z\"] = z_score_list_values"
   ]
  },
  {
   "cell_type": "code",
   "execution_count": 71,
   "metadata": {},
   "outputs": [],
   "source": [
    "new_z_scores.to_csv(\"/Volumes/ErvaSP/GitHub/Domain2GO/input_data/em_z_scores.txt\", index=False, sep=\" \")"
   ]
  },
  {
   "cell_type": "code",
   "execution_count": 79,
   "metadata": {},
   "outputs": [
    {
     "name": "stderr",
     "output_type": "stream",
     "text": [
      "/opt/anaconda3/envs/interpro/lib/python3.8/site-packages/pandas/util/_decorators.py:311: SettingWithCopyWarning: \n",
      "A value is trying to be set on a copy of a slice from a DataFrame\n",
      "\n",
      "See the caveats in the documentation: https://pandas.pydata.org/pandas-docs/stable/user_guide/indexing.html#returning-a-view-versus-a-copy\n",
      "  return func(*args, **kwargs)\n"
     ]
    }
   ],
   "source": [
    "new_z_scores.drop_duplicates(inplace=True)"
   ]
  },
  {
   "cell_type": "code",
   "execution_count": 82,
   "metadata": {},
   "outputs": [],
   "source": [
    "new_z_scores.to_csv(\"/Volumes/ErvaSP/GitHub/Domain2GO/input_data/em_z_scores.txt\", index=False, sep=\" \")"
   ]
  },
  {
   "cell_type": "code",
   "execution_count": 83,
   "metadata": {},
   "outputs": [
    {
     "ename": "ValueError",
     "evalue": "not enough values to unpack (expected 4, got 0)",
     "output_type": "error",
     "traceback": [
      "\u001b[0;31m---------------------------------------------------------------------------\u001b[0m",
      "\u001b[0;31mValueError\u001b[0m                                Traceback (most recent call last)",
      "\u001b[0;32m/var/folders/_g/vd_rpn_x7lb_rx_5j2hjfj9r0000gn/T/ipykernel_3801/800702948.py\u001b[0m in \u001b[0;36m<module>\u001b[0;34m\u001b[0m\n\u001b[0;32m----> 1\u001b[0;31m \u001b[0mA\u001b[0m\u001b[0;34m,\u001b[0m \u001b[0mB\u001b[0m\u001b[0;34m,\u001b[0m \u001b[0mC\u001b[0m\u001b[0;34m,\u001b[0m \u001b[0mD\u001b[0m \u001b[0;34m=\u001b[0m \u001b[0;34m{\u001b[0m\u001b[0;34m}\u001b[0m\u001b[0;34m\u001b[0m\u001b[0;34m\u001b[0m\u001b[0m\n\u001b[0m",
      "\u001b[0;31mValueError\u001b[0m: not enough values to unpack (expected 4, got 0)"
     ]
    }
   ],
   "source": [
    "A, B, C, D = {}"
   ]
  },
  {
   "cell_type": "code",
   "execution_count": 91,
   "metadata": {},
   "outputs": [
    {
     "data": {
      "text/plain": "[100,\n 1000,\n 2000,\n 3000,\n 4000,\n 5000,\n 6000,\n 7000,\n 8000,\n 9000,\n 10000,\n 11000,\n 12000,\n 13000,\n 14000,\n 15000,\n 16000,\n 17000,\n 18000,\n 19000,\n 20000]"
     },
     "execution_count": 91,
     "metadata": {},
     "output_type": "execute_result"
    }
   ],
   "source": [
    "[100] + list(range(0, 21000, 1000))[1:]"
   ]
  },
  {
   "cell_type": "code",
   "execution_count": 18,
   "metadata": {},
   "outputs": [],
   "source": [
    "def read_predictions(prediction_file_path ):\n",
    "    organisms_predictions = {}\n",
    "    all_organisms_predictions = {}\n",
    "    file_names = []\n",
    "    ontologies = [\"MFO\", \"CCO\", \"BPO\"]\n",
    "    for file in os.listdir(prediction_file_path):\n",
    "        file_names.append(file)\n",
    "    for ontology in ontologies:\n",
    "        organisms_predictions[ontology] = []\n",
    "        for file_name in file_names:\n",
    "            if ontology in file_name:\n",
    "                with open(prediction_file_path + file_name) as json_file:\n",
    "                    temp_dict = json.load(json_file)\n",
    "                organisms_predictions[ontology].append(temp_dict)\n",
    "\n",
    "        all_organisms_predictions[ontology] = organisms_predictions[ontology][0].copy()\n",
    "        for organism in organisms_predictions[ontology]:\n",
    "            all_organisms_predictions[ontology].update(organism)\n",
    "\n",
    "    return all_organisms_predictions"
   ]
  },
  {
   "cell_type": "code",
   "execution_count": 19,
   "metadata": {},
   "outputs": [],
   "source": [
    "deneme_dict = read_predictions(\"/Volumes/ErvaSP/interpro-go/CAFA/final_evaluation/predictions/blast_predictions/json/\" )"
   ]
  },
  {
   "cell_type": "code",
   "execution_count": 23,
   "metadata": {},
   "outputs": [
    {
     "name": "stdout",
     "output_type": "stream",
     "text": [
      "376\n",
      "594\n",
      "779\n"
     ]
    }
   ],
   "source": [
    "print(len(deneme_dict[\"MFO\"]))\n",
    "print(len(deneme_dict[\"CCO\"]))\n",
    "print(len(deneme_dict[\"BPO\"]))\n"
   ]
  },
  {
   "cell_type": "markdown",
   "metadata": {},
   "source": [
    "# cafa-uniprot map file creation"
   ]
  },
  {
   "cell_type": "code",
   "execution_count": 9,
   "metadata": {},
   "outputs": [],
   "source": [
    "filtered_original = pd.read_csv(\"/Volumes/ErvaSP/interpro-go/main_data/filtered_original.txt\", sep=\" \")"
   ]
  },
  {
   "cell_type": "code",
   "execution_count": 11,
   "metadata": {},
   "outputs": [],
   "source": [
    "filtered_original.to_csv(\"/Volumes/ErvaSP/GitHub/Domain2GO/outputs/filtered_original.txt\", index=False)"
   ]
  },
  {
   "cell_type": "code",
   "execution_count": 15,
   "metadata": {},
   "outputs": [],
   "source": [
    "all_organisms_cafa_uniprot_map = pd.read_csv(\"/Volumes/ErvaSP/GitHub/Domain2GO/input_data/cafa/CAFA3_targets_to_uniprot.txt\", sep = \" \")"
   ]
  },
  {
   "cell_type": "code",
   "execution_count": 14,
   "metadata": {},
   "outputs": [],
   "source": [
    "domain_uniprot= dd.read_csv(\"/Volumes/ErvaSP/interpro-go/main_data/interpro_raw/protein2ipr_onlydomains.txt\", sep= \" \")"
   ]
  },
  {
   "cell_type": "code",
   "execution_count": 18,
   "metadata": {},
   "outputs": [],
   "source": [
    "domain_uniprot = domain_uniprot.loc[domain_uniprot['Uniprot'].isin(all_organisms_cafa_uniprot_map[\"Entry\"])]"
   ]
  },
  {
   "cell_type": "code",
   "execution_count": 19,
   "metadata": {},
   "outputs": [],
   "source": [
    "domain_target_uniprot=domain_uniprot.compute()"
   ]
  },
  {
   "cell_type": "code",
   "execution_count": 20,
   "metadata": {},
   "outputs": [
    {
     "data": {
      "text/plain": "Uniprot      86168\nAccession     8446\ndtype: int64"
     },
     "execution_count": 20,
     "metadata": {},
     "output_type": "execute_result"
    }
   ],
   "source": [
    "domain_target_uniprot.nunique()"
   ]
  },
  {
   "cell_type": "code",
   "execution_count": 24,
   "metadata": {},
   "outputs": [],
   "source": [
    "all_organisms_cafa_uniprot_map.columns = ['CAFA', 'Uniprot']"
   ]
  },
  {
   "cell_type": "code",
   "execution_count": 25,
   "metadata": {},
   "outputs": [],
   "source": [
    "domain_target_uniprot_cafa = pd.merge(domain_target_uniprot, all_organisms_cafa_uniprot_map, on='Uniprot')"
   ]
  },
  {
   "cell_type": "code",
   "execution_count": 26,
   "metadata": {},
   "outputs": [
    {
     "data": {
      "text/html": "<div>\n<style scoped>\n    .dataframe tbody tr th:only-of-type {\n        vertical-align: middle;\n    }\n\n    .dataframe tbody tr th {\n        vertical-align: top;\n    }\n\n    .dataframe thead th {\n        text-align: right;\n    }\n</style>\n<table border=\"1\" class=\"dataframe\">\n  <thead>\n    <tr style=\"text-align: right;\">\n      <th></th>\n      <th>Uniprot</th>\n      <th>Accession</th>\n      <th>CAFA</th>\n    </tr>\n  </thead>\n  <tbody>\n    <tr>\n      <th>0</th>\n      <td>A0A0H2Z637</td>\n      <td>IPR004839</td>\n      <td>T2089630002886</td>\n    </tr>\n    <tr>\n      <th>1</th>\n      <td>A0A0H2Z8I3</td>\n      <td>IPR004839</td>\n      <td>T2089630004900</td>\n    </tr>\n    <tr>\n      <th>2</th>\n      <td>A0A0H2Z927</td>\n      <td>IPR004839</td>\n      <td>T2089630005413</td>\n    </tr>\n    <tr>\n      <th>3</th>\n      <td>A0A0H2Z973</td>\n      <td>IPR004839</td>\n      <td>T2089630004430</td>\n    </tr>\n    <tr>\n      <th>4</th>\n      <td>A0A0H2Z973</td>\n      <td>IPR000524</td>\n      <td>T2089630004430</td>\n    </tr>\n    <tr>\n      <th>...</th>\n      <td>...</td>\n      <td>...</td>\n      <td>...</td>\n    </tr>\n    <tr>\n      <th>180777</th>\n      <td>Q9HDB8</td>\n      <td>IPR029104</td>\n      <td>T96060005290</td>\n    </tr>\n    <tr>\n      <th>180778</th>\n      <td>Q6ZQT7</td>\n      <td>IPR031572</td>\n      <td>T96060019272</td>\n    </tr>\n    <tr>\n      <th>180779</th>\n      <td>Q6ZRM9</td>\n      <td>IPR031572</td>\n      <td>T96060019237</td>\n    </tr>\n    <tr>\n      <th>180780</th>\n      <td>Q75L30</td>\n      <td>IPR031572</td>\n      <td>T96060019238</td>\n    </tr>\n    <tr>\n      <th>180781</th>\n      <td>O74346</td>\n      <td>IPR021746</td>\n      <td>T2848120001457</td>\n    </tr>\n  </tbody>\n</table>\n<p>180782 rows × 3 columns</p>\n</div>",
      "text/plain": "           Uniprot  Accession            CAFA\n0       A0A0H2Z637  IPR004839  T2089630002886\n1       A0A0H2Z8I3  IPR004839  T2089630004900\n2       A0A0H2Z927  IPR004839  T2089630005413\n3       A0A0H2Z973  IPR004839  T2089630004430\n4       A0A0H2Z973  IPR000524  T2089630004430\n...            ...        ...             ...\n180777      Q9HDB8  IPR029104    T96060005290\n180778      Q6ZQT7  IPR031572    T96060019272\n180779      Q6ZRM9  IPR031572    T96060019237\n180780      Q75L30  IPR031572    T96060019238\n180781      O74346  IPR021746  T2848120001457\n\n[180782 rows x 3 columns]"
     },
     "execution_count": 26,
     "metadata": {},
     "output_type": "execute_result"
    }
   ],
   "source": [
    "domain_target_uniprot_cafa"
   ]
  },
  {
   "cell_type": "code",
   "execution_count": 29,
   "metadata": {},
   "outputs": [
    {
     "data": {
      "text/plain": "Uniprot_ID     86168\nInterpro_ID     8446\nCAFA           77262\ndtype: int64"
     },
     "execution_count": 29,
     "metadata": {},
     "output_type": "execute_result"
    }
   ],
   "source": [
    "domain_target_uniprot_cafa.nunique()"
   ]
  },
  {
   "cell_type": "code",
   "execution_count": 37,
   "metadata": {},
   "outputs": [],
   "source": [
    "domain_target_uniprot_cafa.columns = [\"Uniprot\", \"Interpro\", \"CAFA\"]"
   ]
  },
  {
   "cell_type": "code",
   "execution_count": 38,
   "metadata": {},
   "outputs": [],
   "source": [
    "domain_target_uniprot_cafa.to_csv(\"/Volumes/ErvaSP/GitHub/Domain2GO/input_data/cafa/CAFA3_targets_domains_mapped.txt\", index= False)"
   ]
  },
  {
   "cell_type": "code",
   "execution_count": 35,
   "metadata": {},
   "outputs": [],
   "source": [
    "input_data_w_scores_cafa_subset = input_data_w_scores[input_data_w_scores[\"s\"] >= 0.05]"
   ]
  },
  {
   "cell_type": "code",
   "execution_count": 36,
   "metadata": {},
   "outputs": [
    {
     "data": {
      "text/html": "<div>\n<style scoped>\n    .dataframe tbody tr th:only-of-type {\n        vertical-align: middle;\n    }\n\n    .dataframe tbody tr th {\n        vertical-align: top;\n    }\n\n    .dataframe thead th {\n        text-align: right;\n    }\n</style>\n<table border=\"1\" class=\"dataframe\">\n  <thead>\n    <tr style=\"text-align: right;\">\n      <th></th>\n      <th>GO</th>\n      <th>Interpro</th>\n      <th>n</th>\n      <th>n_go</th>\n      <th>n_ip</th>\n      <th>s</th>\n    </tr>\n  </thead>\n  <tbody>\n    <tr>\n      <th>2</th>\n      <td>GO:0000001</td>\n      <td>IPR001107</td>\n      <td>3</td>\n      <td>31</td>\n      <td>78</td>\n      <td>0.055046</td>\n    </tr>\n    <tr>\n      <th>4</th>\n      <td>GO:0000001</td>\n      <td>IPR001401</td>\n      <td>3</td>\n      <td>31</td>\n      <td>62</td>\n      <td>0.064516</td>\n    </tr>\n    <tr>\n      <th>17</th>\n      <td>GO:0000001</td>\n      <td>IPR007519</td>\n      <td>1</td>\n      <td>31</td>\n      <td>3</td>\n      <td>0.058824</td>\n    </tr>\n    <tr>\n      <th>22</th>\n      <td>GO:0000001</td>\n      <td>IPR019411</td>\n      <td>5</td>\n      <td>31</td>\n      <td>21</td>\n      <td>0.192308</td>\n    </tr>\n    <tr>\n      <th>23</th>\n      <td>GO:0000001</td>\n      <td>IPR020850</td>\n      <td>3</td>\n      <td>31</td>\n      <td>52</td>\n      <td>0.072289</td>\n    </tr>\n    <tr>\n      <th>...</th>\n      <td>...</td>\n      <td>...</td>\n      <td>...</td>\n      <td>...</td>\n      <td>...</td>\n      <td>...</td>\n    </tr>\n    <tr>\n      <th>2069751</th>\n      <td>GO:2001304</td>\n      <td>IPR042062</td>\n      <td>2</td>\n      <td>2</td>\n      <td>18</td>\n      <td>0.200000</td>\n    </tr>\n    <tr>\n      <th>2069753</th>\n      <td>GO:2001305</td>\n      <td>IPR013910</td>\n      <td>1</td>\n      <td>2</td>\n      <td>6</td>\n      <td>0.250000</td>\n    </tr>\n    <tr>\n      <th>2069756</th>\n      <td>GO:2001306</td>\n      <td>IPR013819</td>\n      <td>2</td>\n      <td>2</td>\n      <td>34</td>\n      <td>0.111111</td>\n    </tr>\n    <tr>\n      <th>2069757</th>\n      <td>GO:2001306</td>\n      <td>IPR042062</td>\n      <td>2</td>\n      <td>2</td>\n      <td>18</td>\n      <td>0.200000</td>\n    </tr>\n    <tr>\n      <th>2069759</th>\n      <td>GO:2001307</td>\n      <td>IPR013910</td>\n      <td>1</td>\n      <td>2</td>\n      <td>6</td>\n      <td>0.250000</td>\n    </tr>\n  </tbody>\n</table>\n<p>169534 rows × 6 columns</p>\n</div>",
      "text/plain": "                 GO   Interpro  n  n_go  n_ip         s\n2        GO:0000001  IPR001107  3    31    78  0.055046\n4        GO:0000001  IPR001401  3    31    62  0.064516\n17       GO:0000001  IPR007519  1    31     3  0.058824\n22       GO:0000001  IPR019411  5    31    21  0.192308\n23       GO:0000001  IPR020850  3    31    52  0.072289\n...             ...        ... ..   ...   ...       ...\n2069751  GO:2001304  IPR042062  2     2    18  0.200000\n2069753  GO:2001305  IPR013910  1     2     6  0.250000\n2069756  GO:2001306  IPR013819  2     2    34  0.111111\n2069757  GO:2001306  IPR042062  2     2    18  0.200000\n2069759  GO:2001307  IPR013910  1     2     6  0.250000\n\n[169534 rows x 6 columns]"
     },
     "execution_count": 36,
     "metadata": {},
     "output_type": "execute_result"
    }
   ],
   "source": [
    "input_data_w_scores_cafa_subset"
   ]
  },
  {
   "cell_type": "code",
   "execution_count": 40,
   "metadata": {},
   "outputs": [],
   "source": [
    "predictions = pd.merge(domain_target_uniprot_cafa, input_data_w_scores_cafa_subset, on='Interpro')"
   ]
  },
  {
   "cell_type": "code",
   "execution_count": 41,
   "metadata": {},
   "outputs": [
    {
     "data": {
      "text/plain": "Uniprot     84102\nInterpro     6897\nCAFA        75354\nGO          24665\nn             714\nn_go         1508\nn_ip          261\ns           17786\ndtype: int64"
     },
     "execution_count": 41,
     "metadata": {},
     "output_type": "execute_result"
    }
   ],
   "source": [
    "predictions.nunique()"
   ]
  },
  {
   "cell_type": "code",
   "execution_count": 42,
   "metadata": {},
   "outputs": [
    {
     "data": {
      "text/html": "<div>\n<style scoped>\n    .dataframe tbody tr th:only-of-type {\n        vertical-align: middle;\n    }\n\n    .dataframe tbody tr th {\n        vertical-align: top;\n    }\n\n    .dataframe thead th {\n        text-align: right;\n    }\n</style>\n<table border=\"1\" class=\"dataframe\">\n  <thead>\n    <tr style=\"text-align: right;\">\n      <th></th>\n      <th>Uniprot</th>\n      <th>Interpro</th>\n      <th>CAFA</th>\n      <th>GO</th>\n      <th>n</th>\n      <th>n_go</th>\n      <th>n_ip</th>\n      <th>s</th>\n    </tr>\n  </thead>\n  <tbody>\n    <tr>\n      <th>0</th>\n      <td>A0A0H2Z637</td>\n      <td>IPR004839</td>\n      <td>T2089630002886</td>\n      <td>GO:0002178</td>\n      <td>16</td>\n      <td>33</td>\n      <td>202</td>\n      <td>0.136170</td>\n    </tr>\n    <tr>\n      <th>1</th>\n      <td>A0A0H2Z637</td>\n      <td>IPR004839</td>\n      <td>T2089630002886</td>\n      <td>GO:0003870</td>\n      <td>10</td>\n      <td>11</td>\n      <td>202</td>\n      <td>0.093897</td>\n    </tr>\n    <tr>\n      <th>2</th>\n      <td>A0A0H2Z637</td>\n      <td>IPR004839</td>\n      <td>T2089630002886</td>\n      <td>GO:0004021</td>\n      <td>19</td>\n      <td>20</td>\n      <td>202</td>\n      <td>0.171171</td>\n    </tr>\n    <tr>\n      <th>3</th>\n      <td>A0A0H2Z637</td>\n      <td>IPR004839</td>\n      <td>T2089630002886</td>\n      <td>GO:0004069</td>\n      <td>33</td>\n      <td>33</td>\n      <td>202</td>\n      <td>0.280851</td>\n    </tr>\n    <tr>\n      <th>4</th>\n      <td>A0A0H2Z637</td>\n      <td>IPR004839</td>\n      <td>T2089630002886</td>\n      <td>GO:0004758</td>\n      <td>18</td>\n      <td>18</td>\n      <td>202</td>\n      <td>0.163636</td>\n    </tr>\n    <tr>\n      <th>...</th>\n      <td>...</td>\n      <td>...</td>\n      <td>...</td>\n      <td>...</td>\n      <td>...</td>\n      <td>...</td>\n      <td>...</td>\n      <td>...</td>\n    </tr>\n    <tr>\n      <th>13835446</th>\n      <td>O74346</td>\n      <td>IPR021746</td>\n      <td>T2848120001457</td>\n      <td>GO:0098610</td>\n      <td>4</td>\n      <td>13</td>\n      <td>4</td>\n      <td>0.470588</td>\n    </tr>\n    <tr>\n      <th>13835447</th>\n      <td>O74346</td>\n      <td>IPR021746</td>\n      <td>T2848120001457</td>\n      <td>GO:0098630</td>\n      <td>4</td>\n      <td>113</td>\n      <td>4</td>\n      <td>0.068376</td>\n    </tr>\n    <tr>\n      <th>13835448</th>\n      <td>O74346</td>\n      <td>IPR021746</td>\n      <td>T2848120001457</td>\n      <td>GO:0098740</td>\n      <td>4</td>\n      <td>17</td>\n      <td>4</td>\n      <td>0.380952</td>\n    </tr>\n    <tr>\n      <th>13835449</th>\n      <td>O74346</td>\n      <td>IPR021746</td>\n      <td>T2848120001457</td>\n      <td>GO:0098741</td>\n      <td>3</td>\n      <td>10</td>\n      <td>4</td>\n      <td>0.428571</td>\n    </tr>\n    <tr>\n      <th>13835450</th>\n      <td>O74346</td>\n      <td>IPR021746</td>\n      <td>T2848120001457</td>\n      <td>GO:0098743</td>\n      <td>4</td>\n      <td>147</td>\n      <td>4</td>\n      <td>0.052980</td>\n    </tr>\n  </tbody>\n</table>\n<p>13835451 rows × 8 columns</p>\n</div>",
      "text/plain": "             Uniprot   Interpro            CAFA          GO   n  n_go  n_ip  \\\n0         A0A0H2Z637  IPR004839  T2089630002886  GO:0002178  16    33   202   \n1         A0A0H2Z637  IPR004839  T2089630002886  GO:0003870  10    11   202   \n2         A0A0H2Z637  IPR004839  T2089630002886  GO:0004021  19    20   202   \n3         A0A0H2Z637  IPR004839  T2089630002886  GO:0004069  33    33   202   \n4         A0A0H2Z637  IPR004839  T2089630002886  GO:0004758  18    18   202   \n...              ...        ...             ...         ...  ..   ...   ...   \n13835446      O74346  IPR021746  T2848120001457  GO:0098610   4    13     4   \n13835447      O74346  IPR021746  T2848120001457  GO:0098630   4   113     4   \n13835448      O74346  IPR021746  T2848120001457  GO:0098740   4    17     4   \n13835449      O74346  IPR021746  T2848120001457  GO:0098741   3    10     4   \n13835450      O74346  IPR021746  T2848120001457  GO:0098743   4   147     4   \n\n                 s  \n0         0.136170  \n1         0.093897  \n2         0.171171  \n3         0.280851  \n4         0.163636  \n...            ...  \n13835446  0.470588  \n13835447  0.068376  \n13835448  0.380952  \n13835449  0.428571  \n13835450  0.052980  \n\n[13835451 rows x 8 columns]"
     },
     "execution_count": 42,
     "metadata": {},
     "output_type": "execute_result"
    }
   ],
   "source": [
    "predictions"
   ]
  },
  {
   "cell_type": "code",
   "execution_count": 43,
   "metadata": {},
   "outputs": [],
   "source": [
    "file_names=[]\n",
    "for file in os.listdir(\"/Volumes/ErvaSP/interpro-go/CAFA/CAFA3_targets/Mapping files\"):\n",
    "    file_names.append(file)"
   ]
  },
  {
   "cell_type": "code",
   "execution_count": 44,
   "metadata": {},
   "outputs": [
    {
     "data": {
      "text/plain": "['.DS_Store',\n 'adasd',\n 'all_target_ids.txt',\n 'mapping.208963.map',\n 'mapping.237561.map',\n 'mapping.7227.map',\n 'sp_species.10090.map',\n 'sp_species.10116.map',\n 'sp_species.160488.map',\n 'sp_species.170187.map',\n 'sp_species.223283.map',\n 'sp_species.224308.map',\n 'sp_species.243232.map',\n 'sp_species.243273.map',\n 'sp_species.273057.map',\n 'sp_species.284812.map',\n 'sp_species.321314.map',\n 'sp_species.3702.map',\n 'sp_species.44689.map',\n 'sp_species.559292.map',\n 'sp_species.7955.map',\n 'sp_species.83333.map',\n 'sp_species.8355.map',\n 'sp_species.85962.map',\n 'sp_species.9606.map',\n 'sp_species.99287.map',\n 'uniprot_entry_maps(created_by_uniprot)']"
     },
     "execution_count": 44,
     "metadata": {},
     "output_type": "execute_result"
    }
   ],
   "source": [
    "file_names"
   ]
  },
  {
   "cell_type": "code",
   "execution_count": 45,
   "metadata": {},
   "outputs": [],
   "source": [
    "file_names.remove('.DS_Store')\n",
    "file_names.remove('adasd')\n",
    "file_names.remove('all_target_ids.txt')\n",
    "file_names.remove('uniprot_entry_maps(created_by_uniprot)')\n",
    "\n"
   ]
  },
  {
   "cell_type": "code",
   "execution_count": 46,
   "metadata": {},
   "outputs": [
    {
     "data": {
      "text/plain": "23"
     },
     "execution_count": 46,
     "metadata": {},
     "output_type": "execute_result"
    }
   ],
   "source": [
    "len(file_names)"
   ]
  },
  {
   "cell_type": "code",
   "execution_count": 47,
   "metadata": {},
   "outputs": [],
   "source": [
    "all_species_targets_df = []\n",
    "for i in range(len(file_names)):\n",
    "    temp_df = pd.read_csv(\"/Volumes/ErvaSP/interpro-go/CAFA/CAFA3_targets/Mapping files/\"+file_names[i], sep=\"\\t\", header=None)\n",
    "    all_species_targets_df.append(temp_df)"
   ]
  },
  {
   "cell_type": "code",
   "execution_count": 49,
   "metadata": {},
   "outputs": [
    {
     "data": {
      "text/plain": "[                   0           1\n 0     T2089630000001  PA14_31220\n 1     T2089630000002  PA14_64790\n 2     T2089630000003  PA14_35250\n 3     T2089630000004  PA14_48450\n 4     T2089630000005  PA14_29300\n ...              ...         ...\n 5887  T2089630005888  PA14_63550\n 5888  T2089630005889  PA14_36070\n 5889  T2089630005890  PA14_63220\n 5890  T2089630005891  PA14_35600\n 5891  T2089630005892  PA14_43230\n \n [5892 rows x 2 columns],\n                     0            1\n 0      T2375610000001  C3_01970C_A\n 1      T2375610000002  C6_03940C_B\n 2      T2375610000003  C6_03940C_A\n 3      T2375610000004  C3_01970C_B\n 4      T2375610000005  C2_05290C_A\n ...               ...          ...\n 12416  T2375610012417  C2_04700C_B\n 12417  T2375610012418  C2_04320W_A\n 12418  T2375610012419  C5_04480C_B\n 12419  T2375610012420  C3_01050C_A\n 12420  T2375610012421  C3_01050C_B\n \n [12421 rows x 2 columns],\n                   0            1            2\n 0      T72270000001  FBgn0030647  FBpp0311216\n 1      T72270000001  FBgn0030647  FBpp0073854\n 2      T72270000002  FBgn0030878  FBpp0074267\n 3      T72270000002  FBgn0030878  FBpp0306150\n 4      T72270000003  FBgn0035360  FBpp0311277\n ...             ...          ...          ...\n 30438  T72270013904  FBgn0051015  FBpp0085032\n 30439  T72270013905  FBgn0051014  FBpp0085048\n 30440  T72270013906  FBgn0051013  FBpp0085033\n 30441  T72270013907  FBgn0051010  FBpp0307431\n 30442  T72270013907  FBgn0051010  FBpp0085087\n \n [30443 rows x 3 columns],\n                    0            1\n 0      T100900000001  1433B_MOUSE\n 1      T100900000002  1433E_MOUSE\n 2      T100900000003  1433F_MOUSE\n 3      T100900000004  1433G_MOUSE\n 4      T100900000005  1433S_MOUSE\n ...              ...          ...\n 16801  T100900016802  ZY11A_MOUSE\n 16802  T100900016803  ZY11B_MOUSE\n 16803  T100900016804    ZYX_MOUSE\n 16804  T100900016805  ZZEF1_MOUSE\n 16805  T100900016806   ZZZ3_MOUSE\n \n [16806 rows x 2 columns],\n                   0          1\n 0     T101160000001  1433B_RAT\n 1     T101160000002  1433E_RAT\n 2     T101160000003  1433F_RAT\n 3     T101160000004  1433G_RAT\n 4     T101160000005  1433T_RAT\n ...             ...        ...\n 7958  T101160007959    ZPI_RAT\n 7959  T101160007960  ZRAB2_RAT\n 7960  T101160007961  ZUFSP_RAT\n 7961  T101160007962   ZW10_RAT\n 7962  T101160007963  ZWINT_RAT\n \n [7963 rows x 2 columns],\n                   0            1\n 0    T1604880000001  6HN3M_PSEPK\n 1    T1604880000002   ACCA_PSEPK\n 2    T1604880000003   ACCD_PSEPK\n 3    T1604880000004   ACEK_PSEPK\n 4    T1604880000005    ACP_PSEPK\n ..              ...          ...\n 700  T1604880000701   YIDC_PSEPK\n 701  T1604880000702   YIDD_PSEPK\n 702  T1604880000703   YQGF_PSEPK\n 703  T1604880000704   ZIPA_PSEPK\n 704  T1604880000705   ZNUC_PSEPK\n \n [705 rows x 2 columns],\n                   0            1\n 0    T1701870000001   ACCA_STRPN\n 1    T1701870000002   ACCD_STRPN\n 2    T1701870000003   ACKA_STRPN\n 3    T1701870000004   ACPS_STRPN\n 4    T1701870000005    ACP_STRPN\n ..              ...          ...\n 496  T1701870000497  YIDC1_STRPN\n 497  T1701870000498  YIDC2_STRPN\n 498  T1701870000499   YIDD_STRPN\n 499  T1701870000500   ZMPB_STRPN\n 500  T1701870000501   ZMPC_STRPN\n \n [501 rows x 2 columns],\n                   0           1\n 0    T2232830000001  1A1D_PSESM\n 1    T2232830000002  3MGH_PSESM\n 2    T2232830000003  ACCA_PSESM\n 3    T2232830000004  ACCD_PSESM\n 4    T2232830000005   ACP_PSESM\n ..              ...         ...\n 673  T2232830000674  YIDC_PSESM\n 674  T2232830000675  YIDD_PSESM\n 675  T2232830000676  YQGF_PSESM\n 676  T2232830000677  ZIPA_PSESM\n 677  T2232830000678  ZNUC_PSESM\n \n [678 rows x 2 columns],\n                    0           1\n 0     T2243080000001  2NPD_BACSU\n 1     T2243080000002  3MGA_BACSU\n 2     T2243080000003  3MGH_BACSU\n 3     T2243080000004   4OT_BACSU\n 4     T2243080000005  53DR_BACSU\n ...              ...         ...\n 4180  T2243080004181  ZNUA_BACSU\n 4181  T2243080004182  ZNUB_BACSU\n 4182  T2243080004183  ZNUC_BACSU\n 4183  T2243080004184  ZOSA_BACSU\n 4184  T2243080004185   ZUR_BACSU\n \n [4185 rows x 2 columns],\n                    0            1\n 0     T2432320000001    AAT_METJA\n 1     T2432320000002   ACDA_METJA\n 2     T2432320000003  ACDB1_METJA\n 3     T2432320000004  ACDB2_METJA\n 4     T2432320000005   ACDD_METJA\n ...              ...          ...\n 1782  T2432320001783   YE7B_METJA\n 1783  T2432320001784   YE8A_METJA\n 1784  T2432320001785   YF1B_METJA\n 1785  T2432320001786   YF7B_METJA\n 1786  T2432320001787   YF9A_METJA\n \n [1787 rows x 2 columns],\n                   0           1\n 0    T2432730000001  ACKA_MYCGE\n 1    T2432730000002  ACPH_MYCGE\n 2    T2432730000003  ACPS_MYCGE\n 3    T2432730000004  ADP1_MYCGE\n 4    T2432730000005   ALF_MYCGE\n ..              ...         ...\n 478  T2432730000479  YBEY_MYCGE\n 479  T2432730000480  YCHF_MYCGE\n 480  T2432730000481  YHIT_MYCGE\n 481  T2432730000482  YIDC_MYCGE\n 482  T2432730000483  YQGF_MYCGE\n \n [483 rows x 2 columns],\n                   0            1\n 0    T2730570000001    AAT_SULSO\n 1    T2730570000002   ACYP_SULSO\n 2    T2730570000003    ADH_SULSO\n 3    T2730570000004   AGAL_SULSO\n 4    T2730570000005   AGLU_SULSO\n ..              ...          ...\n 464  T2730570000465   Y535_SULSO\n 465  T2730570000466  Y6503_SULSO\n 466  T2730570000467   Y781_SULSO\n 467  T2730570000468   Y942_SULSO\n 468  T2730570000469   YHIT_SULSO\n \n [469 rows x 2 columns],\n                    0            1\n 0     T2848120000001   1A1D_SCHPO\n 1     T2848120000002   2AAA_SCHPO\n 2     T2848120000003   2ABA_SCHPO\n 3     T2848120000004   2AD1_SCHPO\n 4     T2848120000005   2AD2_SCHPO\n ...              ...          ...\n 5115  T2848120005116   ZPR1_SCHPO\n 5116  T2848120005117  ZRG17_SCHPO\n 5117  T2848120005118   ZRT1_SCHPO\n 5118  T2848120005119   ZUO1_SCHPO\n 5119  T2848120005120   ZYM1_SCHPO\n \n [5120 rows x 2 columns],\n                   0           1\n 0    T3213140000001  5DNU_SALCH\n 1    T3213140000002  6PGL_SALCH\n 2    T3213140000003  AAEA_SALCH\n 3    T3213140000004  AAEB_SALCH\n 4    T3213140000005  AAEX_SALCH\n ..              ...         ...\n 877  T3213140000878  ZIPA_SALCH\n 878  T3213140000879  ZNTB_SALCH\n 879  T3213140000880  ZNUC_SALCH\n 880  T3213140000881  ZRAP_SALCH\n 881  T3213140000882  ZUPT_SALCH\n \n [882 rows x 2 columns],\n                   0            1\n 0      T37020000001  14310_ARATH\n 1      T37020000002  14311_ARATH\n 2      T37020000003  14312_ARATH\n 3      T37020000004  14331_ARATH\n 4      T37020000005  14332_ARATH\n ...             ...          ...\n 14749  T37020014750  ZWIP2_ARATH\n 14750  T37020014751  ZWIP3_ARATH\n 14751  T37020014752  ZWIP4_ARATH\n 14752  T37020014753  ZWIP5_ARATH\n 14753  T37020014754  ZWIP6_ARATH\n \n [14754 rows x 2 columns],\n                   0            1\n 0     T446890000001   1433_DICDI\n 1     T446890000002    29C_DICDI\n 2     T446890000003   2AAA_DICDI\n 3     T446890000004     3F_DICDI\n 4     T446890000005   3HAO_DICDI\n ...             ...          ...\n 4126  T446890004127   ZNTB_DICDI\n 4127  T446890004128   ZNTC_DICDI\n 4128  T446890004129   ZNTD_DICDI\n 4129  T446890004130   ZPR1_DICDI\n 4130  T446890004131  ZSWM7_DICDI\n \n [4131 rows x 2 columns],\n                    0           1\n 0     T5592920000001  2A5D_YEAST\n 1     T5592920000002  2AAA_YEAST\n 2     T5592920000003  2ABA_YEAST\n 3     T5592920000004  2NDP_YEAST\n 4     T5592920000005  3HAO_YEAST\n ...              ...         ...\n 6716  T5592920006717  ZRG8_YEAST\n 6717  T5592920006718  ZRT1_YEAST\n 6718  T5592920006719  ZRT2_YEAST\n 6719  T5592920006720  ZRT3_YEAST\n 6720  T5592920006721  ZUO1_YEAST\n \n [6721 rows x 2 columns],\n                  0            1\n 0     T79550000001  143BA_DANRE\n 1     T79550000002  143BB_DANRE\n 2     T79550000003  143G1_DANRE\n 3     T79550000004   2ABD_DANRE\n 4     T79550000005   3HAO_DANRE\n ...            ...          ...\n 2962  T79550002963   ZNT9_DANRE\n 2963  T79550002964  ZRN1B_DANRE\n 2964  T79550002965  ZSWM7_DANRE\n 2965  T79550002966  ZWILC_DANRE\n 2966  T79550002967  ZYG11_DANRE\n \n [2967 rows x 2 columns],\n                   0            1\n 0     T833330000001   3MG1_ECOLI\n 1     T833330000002   3MG2_ECOLI\n 2     T833330000003  3PASE_ECOLI\n 3     T833330000004   5DNU_ECOLI\n 4     T833330000005   5FCL_ECOLI\n ...             ...          ...\n 4429  T833330004430   ZRAP_ECOLI\n 4430  T833330004431   ZRAR_ECOLI\n 4431  T833330004432   ZRAS_ECOLI\n 4432  T833330004433   ZUPT_ECOLI\n 4433  T833330004434    ZUR_ECOLI\n \n [4434 rows x 2 columns],\n                  0            1\n 0     T83550000001  1433T_XENLA\n 1     T83550000002  1433Z_XENLA\n 2     T83550000003   1433_XENLA\n 3     T83550000004  143BA_XENLA\n 4     T83550000005  143BB_XENLA\n ...            ...          ...\n 3397  T83550003398  ZRN1A_XENLA\n 3398  T83550003399  ZRN1B_XENLA\n 3399  T83550003400  ZWILC_XENLA\n 3400  T83550003401  ZYG11_XENLA\n 3401  T83550003402    ZYX_XENLA\n \n [3402 rows x 2 columns],\n                  0           1\n 0    T859620000001  6PGL_HELPY\n 1    T859620000002  ACCA_HELPY\n 2    T859620000003  ACNB_HELPY\n 3    T859620000004  ACPS_HELPY\n 4    T859620000005   ACP_HELPY\n ..             ...         ...\n 588  T859620000589  YHIT_HELPY\n 589  T859620000590  YIDC_HELPY\n 590  T859620000591  YIDD_HELPY\n 591  T859620000592  YLXH_HELPY\n 592  T859620000593  YQGF_HELPY\n \n [593 rows x 2 columns],\n                   0            1\n 0      T96060000001  1433B_HUMAN\n 1      T96060000002  1433E_HUMAN\n 2      T96060000003  1433F_HUMAN\n 3      T96060000004  1433G_HUMAN\n 4      T96060000005  1433S_HUMAN\n ...             ...          ...\n 20192  T96060020193  ZY11A_HUMAN\n 20193  T96060020194  ZY11B_HUMAN\n 20194  T96060020195    ZYX_HUMAN\n 20195  T96060020196  ZZEF1_HUMAN\n 20196  T96060020197   ZZZ3_HUMAN\n \n [20197 rows x 2 columns],\n                   0           1\n 0     T992870000001  5DNU_SALTY\n 1     T992870000002  6PGD_SALTY\n 2     T992870000003  6PGL_SALTY\n 3     T992870000004  AAC6_SALTY\n 4     T992870000005  AAEA_SALTY\n ...             ...         ...\n 1784  T992870001785  ZNUC_SALTY\n 1785  T992870001786  ZRAP_SALTY\n 1786  T992870001787  ZRAR_SALTY\n 1787  T992870001788  ZRAS_SALTY\n 1788  T992870001789  ZUPT_SALTY\n \n [1789 rows x 2 columns]]"
     },
     "execution_count": 49,
     "metadata": {},
     "output_type": "execute_result"
    }
   ],
   "source": [
    "all_species_targets_df"
   ]
  },
  {
   "cell_type": "code",
   "execution_count": 50,
   "metadata": {},
   "outputs": [],
   "source": [
    "em_result = pd.read_csv(\"/Volumes/ErvaSP/GitHub/Domain2GO/outputs/em_algorithm/em_full_output.txt\", sep=\" \")"
   ]
  },
  {
   "cell_type": "code",
   "execution_count": 52,
   "metadata": {},
   "outputs": [
    {
     "data": {
      "text/plain": "Index(['GO_ID', 'Interpro_ID', 'initial_script', 'theta', 'E'], dtype='object')"
     },
     "execution_count": 52,
     "metadata": {},
     "output_type": "execute_result"
    }
   ],
   "source": [
    "em_result.columns"
   ]
  },
  {
   "cell_type": "code",
   "execution_count": 53,
   "metadata": {},
   "outputs": [],
   "source": [
    "em_result.columns = ['GO_ID', 'Interpro', 'initial_script', 'theta', 'E']"
   ]
  },
  {
   "cell_type": "code",
   "execution_count": 55,
   "metadata": {},
   "outputs": [],
   "source": [
    "em_result.to_csv(\"/Volumes/ErvaSP/GitHub/Domain2GO/outputs/em_algorithm/em_full_output.txt\", sep=\"\\t\", index=False)"
   ]
  },
  {
   "cell_type": "code",
   "execution_count": 57,
   "metadata": {},
   "outputs": [],
   "source": [
    "theta_result = pd.read_csv(\"/Volumes/ErvaSP/GitHub/Domain2GO/outputs/em_algorithm/em_only_theta_output.txt\", sep=\"\\t\")"
   ]
  },
  {
   "cell_type": "code",
   "execution_count": 58,
   "metadata": {},
   "outputs": [
    {
     "data": {
      "text/html": "<div>\n<style scoped>\n    .dataframe tbody tr th:only-of-type {\n        vertical-align: middle;\n    }\n\n    .dataframe tbody tr th {\n        vertical-align: top;\n    }\n\n    .dataframe thead th {\n        text-align: right;\n    }\n</style>\n<table border=\"1\" class=\"dataframe\">\n  <thead>\n    <tr style=\"text-align: right;\">\n      <th></th>\n      <th>GO_ID</th>\n      <th>Interpro_ID</th>\n      <th>initial_script</th>\n      <th>theta</th>\n    </tr>\n  </thead>\n  <tbody>\n    <tr>\n      <th>0</th>\n      <td>GO:0000001</td>\n      <td>IPR019411</td>\n      <td>0.142857</td>\n      <td>0.034838</td>\n    </tr>\n    <tr>\n      <th>1</th>\n      <td>GO:0000001</td>\n      <td>IPR024774</td>\n      <td>0.142857</td>\n      <td>0.073600</td>\n    </tr>\n    <tr>\n      <th>2</th>\n      <td>GO:0000001</td>\n      <td>IPR031468</td>\n      <td>0.142857</td>\n      <td>0.021186</td>\n    </tr>\n    <tr>\n      <th>3</th>\n      <td>GO:0000002</td>\n      <td>IPR018850</td>\n      <td>0.142857</td>\n      <td>0.050880</td>\n    </tr>\n    <tr>\n      <th>4</th>\n      <td>GO:0000002</td>\n      <td>IPR019411</td>\n      <td>0.142857</td>\n      <td>0.035125</td>\n    </tr>\n    <tr>\n      <th>...</th>\n      <td>...</td>\n      <td>...</td>\n      <td>...</td>\n      <td>...</td>\n    </tr>\n    <tr>\n      <th>78472</th>\n      <td>GO:2001304</td>\n      <td>IPR042062</td>\n      <td>0.002232</td>\n      <td>0.050418</td>\n    </tr>\n    <tr>\n      <th>78473</th>\n      <td>GO:2001305</td>\n      <td>IPR013910</td>\n      <td>0.002232</td>\n      <td>0.143900</td>\n    </tr>\n    <tr>\n      <th>78474</th>\n      <td>GO:2001306</td>\n      <td>IPR013819</td>\n      <td>0.002232</td>\n      <td>0.030457</td>\n    </tr>\n    <tr>\n      <th>78475</th>\n      <td>GO:2001306</td>\n      <td>IPR042062</td>\n      <td>0.002232</td>\n      <td>0.050418</td>\n    </tr>\n    <tr>\n      <th>78476</th>\n      <td>GO:2001307</td>\n      <td>IPR013910</td>\n      <td>0.002232</td>\n      <td>0.143900</td>\n    </tr>\n  </tbody>\n</table>\n<p>78477 rows × 4 columns</p>\n</div>",
      "text/plain": "            GO_ID Interpro_ID  initial_script     theta\n0      GO:0000001   IPR019411        0.142857  0.034838\n1      GO:0000001   IPR024774        0.142857  0.073600\n2      GO:0000001   IPR031468        0.142857  0.021186\n3      GO:0000002   IPR018850        0.142857  0.050880\n4      GO:0000002   IPR019411        0.142857  0.035125\n...           ...         ...             ...       ...\n78472  GO:2001304   IPR042062        0.002232  0.050418\n78473  GO:2001305   IPR013910        0.002232  0.143900\n78474  GO:2001306   IPR013819        0.002232  0.030457\n78475  GO:2001306   IPR042062        0.002232  0.050418\n78476  GO:2001307   IPR013910        0.002232  0.143900\n\n[78477 rows x 4 columns]"
     },
     "execution_count": 58,
     "metadata": {},
     "output_type": "execute_result"
    }
   ],
   "source": [
    "theta_result"
   ]
  },
  {
   "cell_type": "code",
   "execution_count": 59,
   "metadata": {},
   "outputs": [],
   "source": [
    "theta_result.columns = ['GO_ID', 'Interpro', 'initial_script', 'theta']"
   ]
  },
  {
   "cell_type": "code",
   "execution_count": null,
   "metadata": {},
   "outputs": [],
   "source": [
    "theta_result.to_csv(\"/Volumes/ErvaSP/GitHub/Domain2GO/outputs/em_algorithm/em_only_theta_output.txt\", sep=\"\\t\", index=False)"
   ]
  },
  {
   "cell_type": "code",
   "execution_count": 16,
   "metadata": {},
   "outputs": [],
   "source": [
    "cwd = os.getcwd()\n",
    "input_file_path = \"{}Domain2GO/input_data\".format(cwd.split(\"Domain2GO\")[0])\n",
    "output_file_path = \"{}Domain2GO/outputs\".format(cwd.split(\"Domain2GO\")[0])\n",
    "\n",
    "\n",
    "cafa_files_path = \"{}/cafa\".format(input_file_path)\n",
    "raw_predictions_path = \"{}/cafa_raw_predictions\".format(output_file_path)\n",
    "\n",
    "ontologies = [\"MFO\", \"CCO\", \"BPO\"]\n",
    "models = [\"domain2go_s\", \"domain2go_e\", \"blast\", \"naive\", \"interpro2go_2016\"]\n",
    "cafa_to_domains = pd.read_csv(\"{}/CAFA3_targets_domains_mapped.txt\".format(cafa_files_path))\n",
    "\n",
    "def read_parsed_predictions(model):\n",
    "    prediction_file_path = \"{}/predictions/{}_predictions/json\".format(cafa_files_path, model)\n",
    "    organisms_predictions = {}\n",
    "    all_organisms_predictions = {}\n",
    "\n",
    "    for ontology in ontologies:\n",
    "        organisms_predictions[ontology] = []\n",
    "        for file in os.listdir(prediction_file_path):\n",
    "            if ontology in file:\n",
    "                with open(\"{}/{}\".format(prediction_file_path, file)) as json_file:\n",
    "                    temp_dict = json.load(json_file)\n",
    "                organisms_predictions[ontology].append(temp_dict)\n",
    "\n",
    "        # all_organisms_predictions[ontology] = organisms_predictions[ontology][0].copy()\n",
    "        all_organisms_predictions[ontology] = {}\n",
    "\n",
    "        for organism in organisms_predictions[ontology]:\n",
    "            all_organisms_predictions[ontology].update(organism)\n",
    "\n",
    "    return all_organisms_predictions   \n"
   ]
  },
  {
   "cell_type": "code",
   "execution_count": 18,
   "metadata": {},
   "outputs": [],
   "source": [
    "deneme = read_parsed_predictions(\"domain2go_s\")"
   ]
  },
  {
   "cell_type": "code",
   "execution_count": 19,
   "metadata": {},
   "outputs": [
    {
     "name": "stdout",
     "output_type": "stream",
     "text": [
      "219\n",
      "209\n",
      "467\n"
     ]
    }
   ],
   "source": [
    "print(len(deneme[\"MFO\"]))\n",
    "print(len(deneme[\"CCO\"]))\n",
    "print(len(deneme[\"BPO\"]))\n"
   ]
  },
  {
   "cell_type": "code",
   "execution_count": 13,
   "metadata": {},
   "outputs": [
    {
     "data": {
      "text/plain": "['.DS_Store',\n 'dataframes',\n 'json',\n 'partial_dataframes',\n 's_1_10090.txt',\n 's_1_10116.txt',\n 's_1_160488.txt',\n 's_1_170187.txt',\n 's_1_208963.txt',\n 's_1_223283.txt',\n 's_1_224308.txt',\n 's_1_237561.txt',\n 's_1_243232.txt',\n 's_1_243273.txt',\n 's_1_273057.txt',\n 's_1_284812.txt',\n 's_1_321314.txt',\n 's_1_3702.txt',\n 's_1_44689.txt',\n 's_1_559292.txt',\n 's_1_7227.txt',\n 's_1_7955.txt',\n 's_1_83333.txt',\n 's_1_8355.txt',\n 's_1_85962.txt',\n 's_1_9606.txt',\n 's_1_99287.txt']"
     },
     "execution_count": 13,
     "metadata": {},
     "output_type": "execute_result"
    }
   ],
   "source": [
    "prediction_file_path = \"{}/predictions/{}_predictions\".format(cafa_files_path, \"domain2go_s\")\n",
    "os.listdir(prediction_file_path)"
   ]
  },
  {
   "cell_type": "code",
   "execution_count": 20,
   "metadata": {},
   "outputs": [],
   "source": [
    "initial_mapping = pd.read_csv(\"/Volumes/ErvaSP/interpro-go/repo_deneme/Domain2GO/outputs/initial_mapping.txt\")\n",
    "initial_mapping_w_scores = pd.read_csv(\"/Volumes/ErvaSP/interpro-go/repo_deneme/Domain2GO/outputs/initial_mapping_w_scores.txt\")\n",
    "\n"
   ]
  },
  {
   "cell_type": "code",
   "execution_count": 21,
   "metadata": {},
   "outputs": [
    {
     "data": {
      "text/html": "<div>\n<style scoped>\n    .dataframe tbody tr th:only-of-type {\n        vertical-align: middle;\n    }\n\n    .dataframe tbody tr th {\n        vertical-align: top;\n    }\n\n    .dataframe thead th {\n        text-align: right;\n    }\n</style>\n<table border=\"1\" class=\"dataframe\">\n  <thead>\n    <tr style=\"text-align: right;\">\n      <th></th>\n      <th>GO</th>\n      <th>Interpro</th>\n      <th>n</th>\n      <th>n_go</th>\n      <th>n_ip</th>\n      <th>s</th>\n    </tr>\n  </thead>\n  <tbody>\n    <tr>\n      <th>0</th>\n      <td>GO:0000001</td>\n      <td>IPR000182</td>\n      <td>1</td>\n      <td>31</td>\n      <td>263</td>\n      <td>0.006803</td>\n    </tr>\n    <tr>\n      <th>1</th>\n      <td>GO:0000001</td>\n      <td>IPR000375</td>\n      <td>2</td>\n      <td>31</td>\n      <td>51</td>\n      <td>0.048780</td>\n    </tr>\n    <tr>\n      <th>2</th>\n      <td>GO:0000001</td>\n      <td>IPR001107</td>\n      <td>3</td>\n      <td>31</td>\n      <td>78</td>\n      <td>0.055046</td>\n    </tr>\n    <tr>\n      <th>3</th>\n      <td>GO:0000001</td>\n      <td>IPR001199</td>\n      <td>1</td>\n      <td>31</td>\n      <td>99</td>\n      <td>0.015385</td>\n    </tr>\n    <tr>\n      <th>4</th>\n      <td>GO:0000001</td>\n      <td>IPR001401</td>\n      <td>3</td>\n      <td>31</td>\n      <td>62</td>\n      <td>0.064516</td>\n    </tr>\n    <tr>\n      <th>...</th>\n      <td>...</td>\n      <td>...</td>\n      <td>...</td>\n      <td>...</td>\n      <td>...</td>\n      <td>...</td>\n    </tr>\n    <tr>\n      <th>2069791</th>\n      <td>GO:2001315</td>\n      <td>IPR005793</td>\n      <td>1</td>\n      <td>1</td>\n      <td>45</td>\n      <td>0.043478</td>\n    </tr>\n    <tr>\n      <th>2069792</th>\n      <td>GO:2001316</td>\n      <td>IPR001138</td>\n      <td>1</td>\n      <td>1</td>\n      <td>141</td>\n      <td>0.014085</td>\n    </tr>\n    <tr>\n      <th>2069793</th>\n      <td>GO:2001316</td>\n      <td>IPR007219</td>\n      <td>1</td>\n      <td>1</td>\n      <td>77</td>\n      <td>0.025641</td>\n    </tr>\n    <tr>\n      <th>2069794</th>\n      <td>GO:2001317</td>\n      <td>IPR001138</td>\n      <td>1</td>\n      <td>1</td>\n      <td>141</td>\n      <td>0.014085</td>\n    </tr>\n    <tr>\n      <th>2069795</th>\n      <td>GO:2001317</td>\n      <td>IPR007219</td>\n      <td>1</td>\n      <td>1</td>\n      <td>77</td>\n      <td>0.025641</td>\n    </tr>\n  </tbody>\n</table>\n<p>2069796 rows × 6 columns</p>\n</div>",
      "text/plain": "                 GO   Interpro  n  n_go  n_ip         s\n0        GO:0000001  IPR000182  1    31   263  0.006803\n1        GO:0000001  IPR000375  2    31    51  0.048780\n2        GO:0000001  IPR001107  3    31    78  0.055046\n3        GO:0000001  IPR001199  1    31    99  0.015385\n4        GO:0000001  IPR001401  3    31    62  0.064516\n...             ...        ... ..   ...   ...       ...\n2069791  GO:2001315  IPR005793  1     1    45  0.043478\n2069792  GO:2001316  IPR001138  1     1   141  0.014085\n2069793  GO:2001316  IPR007219  1     1    77  0.025641\n2069794  GO:2001317  IPR001138  1     1   141  0.014085\n2069795  GO:2001317  IPR007219  1     1    77  0.025641\n\n[2069796 rows x 6 columns]"
     },
     "execution_count": 21,
     "metadata": {},
     "output_type": "execute_result"
    }
   ],
   "source": [
    "initial_mapping_w_scores"
   ]
  },
  {
   "cell_type": "code",
   "execution_count": 22,
   "metadata": {},
   "outputs": [
    {
     "data": {
      "text/html": "<div>\n<style scoped>\n    .dataframe tbody tr th:only-of-type {\n        vertical-align: middle;\n    }\n\n    .dataframe tbody tr th {\n        vertical-align: top;\n    }\n\n    .dataframe thead th {\n        text-align: right;\n    }\n</style>\n<table border=\"1\" class=\"dataframe\">\n  <thead>\n    <tr style=\"text-align: right;\">\n      <th></th>\n      <th>GO</th>\n      <th>Uniprot</th>\n      <th>Interpro</th>\n    </tr>\n  </thead>\n  <tbody>\n    <tr>\n      <th>0</th>\n      <td>GO:0071617</td>\n      <td>Q3UN02</td>\n      <td>IPR002123</td>\n    </tr>\n    <tr>\n      <th>1</th>\n      <td>GO:0071617</td>\n      <td>Q3UN02</td>\n      <td>IPR032098</td>\n    </tr>\n    <tr>\n      <th>2</th>\n      <td>GO:0016746</td>\n      <td>Q3UN02</td>\n      <td>IPR002123</td>\n    </tr>\n    <tr>\n      <th>3</th>\n      <td>GO:0016746</td>\n      <td>Q3UN02</td>\n      <td>IPR032098</td>\n    </tr>\n    <tr>\n      <th>4</th>\n      <td>GO:0005783</td>\n      <td>Q3UN02</td>\n      <td>IPR002123</td>\n    </tr>\n    <tr>\n      <th>...</th>\n      <td>...</td>\n      <td>...</td>\n      <td>...</td>\n    </tr>\n    <tr>\n      <th>12036978</th>\n      <td>GO:0043207</td>\n      <td>Q9SCS7</td>\n      <td>IPR008808</td>\n    </tr>\n    <tr>\n      <th>12036979</th>\n      <td>GO:0050896</td>\n      <td>Q9SCS7</td>\n      <td>IPR008808</td>\n    </tr>\n    <tr>\n      <th>12036980</th>\n      <td>GO:0051704</td>\n      <td>Q9SCS7</td>\n      <td>IPR008808</td>\n    </tr>\n    <tr>\n      <th>12036981</th>\n      <td>GO:0009605</td>\n      <td>Q9SCS7</td>\n      <td>IPR008808</td>\n    </tr>\n    <tr>\n      <th>12036982</th>\n      <td>GO:0009607</td>\n      <td>Q9SCS7</td>\n      <td>IPR008808</td>\n    </tr>\n  </tbody>\n</table>\n<p>12036983 rows × 3 columns</p>\n</div>",
      "text/plain": "                  GO Uniprot   Interpro\n0         GO:0071617  Q3UN02  IPR002123\n1         GO:0071617  Q3UN02  IPR032098\n2         GO:0016746  Q3UN02  IPR002123\n3         GO:0016746  Q3UN02  IPR032098\n4         GO:0005783  Q3UN02  IPR002123\n...              ...     ...        ...\n12036978  GO:0043207  Q9SCS7  IPR008808\n12036979  GO:0050896  Q9SCS7  IPR008808\n12036980  GO:0051704  Q9SCS7  IPR008808\n12036981  GO:0009605  Q9SCS7  IPR008808\n12036982  GO:0009607  Q9SCS7  IPR008808\n\n[12036983 rows x 3 columns]"
     },
     "execution_count": 22,
     "metadata": {},
     "output_type": "execute_result"
    }
   ],
   "source": [
    "initial_mapping"
   ]
  },
  {
   "cell_type": "code",
   "execution_count": 23,
   "metadata": {},
   "outputs": [],
   "source": [
    "# running EM algorithm\n",
    "\n",
    "em_subset_w_scores = initial_mapping_w_scores[initial_mapping_w_scores[\"s\"] >= 0.1]\n",
    "em_subset = initial_mapping.merge(em_subset_w_scores, on=[\"GO\", \"Interpro\"])\n"
   ]
  },
  {
   "cell_type": "code",
   "execution_count": 24,
   "metadata": {},
   "outputs": [
    {
     "data": {
      "text/html": "<div>\n<style scoped>\n    .dataframe tbody tr th:only-of-type {\n        vertical-align: middle;\n    }\n\n    .dataframe tbody tr th {\n        vertical-align: top;\n    }\n\n    .dataframe thead th {\n        text-align: right;\n    }\n</style>\n<table border=\"1\" class=\"dataframe\">\n  <thead>\n    <tr style=\"text-align: right;\">\n      <th></th>\n      <th>GO</th>\n      <th>Interpro</th>\n      <th>n</th>\n      <th>n_go</th>\n      <th>n_ip</th>\n      <th>s</th>\n    </tr>\n  </thead>\n  <tbody>\n    <tr>\n      <th>22</th>\n      <td>GO:0000001</td>\n      <td>IPR019411</td>\n      <td>5</td>\n      <td>31</td>\n      <td>21</td>\n      <td>0.192308</td>\n    </tr>\n    <tr>\n      <th>26</th>\n      <td>GO:0000001</td>\n      <td>IPR024774</td>\n      <td>3</td>\n      <td>31</td>\n      <td>3</td>\n      <td>0.176471</td>\n    </tr>\n    <tr>\n      <th>28</th>\n      <td>GO:0000001</td>\n      <td>IPR031468</td>\n      <td>12</td>\n      <td>31</td>\n      <td>70</td>\n      <td>0.237624</td>\n    </tr>\n    <tr>\n      <th>104</th>\n      <td>GO:0000002</td>\n      <td>IPR018850</td>\n      <td>8</td>\n      <td>99</td>\n      <td>9</td>\n      <td>0.148148</td>\n    </tr>\n    <tr>\n      <th>105</th>\n      <td>GO:0000002</td>\n      <td>IPR019411</td>\n      <td>14</td>\n      <td>99</td>\n      <td>21</td>\n      <td>0.233333</td>\n    </tr>\n    <tr>\n      <th>...</th>\n      <td>...</td>\n      <td>...</td>\n      <td>...</td>\n      <td>...</td>\n      <td>...</td>\n      <td>...</td>\n    </tr>\n    <tr>\n      <th>2069751</th>\n      <td>GO:2001304</td>\n      <td>IPR042062</td>\n      <td>2</td>\n      <td>2</td>\n      <td>18</td>\n      <td>0.200000</td>\n    </tr>\n    <tr>\n      <th>2069753</th>\n      <td>GO:2001305</td>\n      <td>IPR013910</td>\n      <td>1</td>\n      <td>2</td>\n      <td>6</td>\n      <td>0.250000</td>\n    </tr>\n    <tr>\n      <th>2069756</th>\n      <td>GO:2001306</td>\n      <td>IPR013819</td>\n      <td>2</td>\n      <td>2</td>\n      <td>34</td>\n      <td>0.111111</td>\n    </tr>\n    <tr>\n      <th>2069757</th>\n      <td>GO:2001306</td>\n      <td>IPR042062</td>\n      <td>2</td>\n      <td>2</td>\n      <td>18</td>\n      <td>0.200000</td>\n    </tr>\n    <tr>\n      <th>2069759</th>\n      <td>GO:2001307</td>\n      <td>IPR013910</td>\n      <td>1</td>\n      <td>2</td>\n      <td>6</td>\n      <td>0.250000</td>\n    </tr>\n  </tbody>\n</table>\n<p>78477 rows × 6 columns</p>\n</div>",
      "text/plain": "                 GO   Interpro   n  n_go  n_ip         s\n22       GO:0000001  IPR019411   5    31    21  0.192308\n26       GO:0000001  IPR024774   3    31     3  0.176471\n28       GO:0000001  IPR031468  12    31    70  0.237624\n104      GO:0000002  IPR018850   8    99     9  0.148148\n105      GO:0000002  IPR019411  14    99    21  0.233333\n...             ...        ...  ..   ...   ...       ...\n2069751  GO:2001304  IPR042062   2     2    18  0.200000\n2069753  GO:2001305  IPR013910   1     2     6  0.250000\n2069756  GO:2001306  IPR013819   2     2    34  0.111111\n2069757  GO:2001306  IPR042062   2     2    18  0.200000\n2069759  GO:2001307  IPR013910   1     2     6  0.250000\n\n[78477 rows x 6 columns]"
     },
     "execution_count": 24,
     "metadata": {},
     "output_type": "execute_result"
    }
   ],
   "source": [
    "em_subset_w_scores"
   ]
  },
  {
   "cell_type": "code",
   "execution_count": null,
   "metadata": {},
   "outputs": [],
   "source": [
    "em_subset"
   ]
  }
 ],
 "metadata": {
  "kernelspec": {
   "display_name": "Python 3.8.11 64-bit",
   "name": "python3811jvsc74a57bd063c92ff1beb1ab643d3bed6a621b1fa971693060806af66a0dffd9bd16a2530e"
  },
  "language_info": {
   "codemirror_mode": {
    "name": "ipython",
    "version": 3
   },
   "file_extension": ".py",
   "mimetype": "text/x-python",
   "name": "python",
   "nbconvert_exporter": "python",
   "pygments_lexer": "ipython3",
   "version": "3.8.11"
  },
  "orig_nbformat": 2
 },
 "nbformat": 4,
 "nbformat_minor": 2
}